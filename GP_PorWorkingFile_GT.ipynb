{
 "cells": [
  {
   "cell_type": "code",
   "execution_count": 263,
   "id": "d6fa135d",
   "metadata": {},
   "outputs": [],
   "source": [
    "import pandas as pd\n",
    "import numpy as np\n",
    "import seaborn as sns\n",
    "import matplotlib.pyplot as plt\n",
    "%matplotlib inline"
   ]
  },
  {
   "cell_type": "code",
   "execution_count": 264,
   "id": "2de1acae",
   "metadata": {},
   "outputs": [],
   "source": [
    "#merge data on the Portuguese and Math Class\n",
    "mat_data = pd.read_csv(\"student_mat.csv\")\n",
    "por_data = pd.read_csv(\"student_por.csv\")"
   ]
  },
  {
   "cell_type": "code",
   "execution_count": 265,
   "id": "cd60a970",
   "metadata": {},
   "outputs": [
    {
     "data": {
      "text/plain": [
       "(395, 33)"
      ]
     },
     "execution_count": 265,
     "metadata": {},
     "output_type": "execute_result"
    }
   ],
   "source": [
    "mat_data.shape"
   ]
  },
  {
   "cell_type": "code",
   "execution_count": 266,
   "id": "3967b8cc",
   "metadata": {},
   "outputs": [
    {
     "data": {
      "text/plain": [
       "(649, 33)"
      ]
     },
     "execution_count": 266,
     "metadata": {},
     "output_type": "execute_result"
    }
   ],
   "source": [
    "por_data.shape"
   ]
  },
  {
   "cell_type": "code",
   "execution_count": 267,
   "id": "3ae7c3bc",
   "metadata": {},
   "outputs": [],
   "source": [
    "#merge data on a set of condition to find overlapping students between math and portuguese datasets\n",
    "\n",
    "student_data = pd.merge(por_data, mat_data, how=\"outer\", on =[\"school\", \"sex\", \"age\", \"address\", \"famsize\",\\\n",
    "                                                             \"Pstatus\", \"Medu\", \"Fedu\", \"Mjob\", \"Fjob\",\\\n",
    "                                                             \"reason\", \"nursery\"])"
   ]
  },
  {
   "cell_type": "code",
   "execution_count": 268,
   "id": "17a402cf",
   "metadata": {},
   "outputs": [
    {
     "data": {
      "text/plain": [
       "(686, 54)"
      ]
     },
     "execution_count": 268,
     "metadata": {},
     "output_type": "execute_result"
    }
   ],
   "source": [
    "student_data.shape"
   ]
  },
  {
   "cell_type": "code",
   "execution_count": 269,
   "id": "7ec94165",
   "metadata": {},
   "outputs": [
    {
     "data": {
      "text/html": [
       "<div>\n",
       "<style scoped>\n",
       "    .dataframe tbody tr th:only-of-type {\n",
       "        vertical-align: middle;\n",
       "    }\n",
       "\n",
       "    .dataframe tbody tr th {\n",
       "        vertical-align: top;\n",
       "    }\n",
       "\n",
       "    .dataframe thead th {\n",
       "        text-align: right;\n",
       "    }\n",
       "</style>\n",
       "<table border=\"1\" class=\"dataframe\">\n",
       "  <thead>\n",
       "    <tr style=\"text-align: right;\">\n",
       "      <th></th>\n",
       "      <th>school</th>\n",
       "      <th>sex</th>\n",
       "      <th>age</th>\n",
       "      <th>address</th>\n",
       "      <th>famsize</th>\n",
       "      <th>Pstatus</th>\n",
       "      <th>Medu</th>\n",
       "      <th>Fedu</th>\n",
       "      <th>Mjob</th>\n",
       "      <th>Fjob</th>\n",
       "      <th>...</th>\n",
       "      <th>famrel_y</th>\n",
       "      <th>freetime_y</th>\n",
       "      <th>goout_y</th>\n",
       "      <th>Dalc_y</th>\n",
       "      <th>Walc_y</th>\n",
       "      <th>health_y</th>\n",
       "      <th>absences_y</th>\n",
       "      <th>G1_y</th>\n",
       "      <th>G2_y</th>\n",
       "      <th>G3_y</th>\n",
       "    </tr>\n",
       "  </thead>\n",
       "  <tbody>\n",
       "    <tr>\n",
       "      <th>0</th>\n",
       "      <td>GP</td>\n",
       "      <td>F</td>\n",
       "      <td>18</td>\n",
       "      <td>U</td>\n",
       "      <td>GT3</td>\n",
       "      <td>A</td>\n",
       "      <td>4</td>\n",
       "      <td>4</td>\n",
       "      <td>at_home</td>\n",
       "      <td>teacher</td>\n",
       "      <td>...</td>\n",
       "      <td>4.0</td>\n",
       "      <td>3.0</td>\n",
       "      <td>4.0</td>\n",
       "      <td>1.0</td>\n",
       "      <td>1.0</td>\n",
       "      <td>3.0</td>\n",
       "      <td>6.0</td>\n",
       "      <td>5.0</td>\n",
       "      <td>6.0</td>\n",
       "      <td>6.0</td>\n",
       "    </tr>\n",
       "    <tr>\n",
       "      <th>1</th>\n",
       "      <td>GP</td>\n",
       "      <td>F</td>\n",
       "      <td>17</td>\n",
       "      <td>U</td>\n",
       "      <td>GT3</td>\n",
       "      <td>T</td>\n",
       "      <td>1</td>\n",
       "      <td>1</td>\n",
       "      <td>at_home</td>\n",
       "      <td>other</td>\n",
       "      <td>...</td>\n",
       "      <td>5.0</td>\n",
       "      <td>3.0</td>\n",
       "      <td>3.0</td>\n",
       "      <td>1.0</td>\n",
       "      <td>1.0</td>\n",
       "      <td>3.0</td>\n",
       "      <td>4.0</td>\n",
       "      <td>5.0</td>\n",
       "      <td>5.0</td>\n",
       "      <td>6.0</td>\n",
       "    </tr>\n",
       "    <tr>\n",
       "      <th>2</th>\n",
       "      <td>GP</td>\n",
       "      <td>F</td>\n",
       "      <td>17</td>\n",
       "      <td>U</td>\n",
       "      <td>GT3</td>\n",
       "      <td>T</td>\n",
       "      <td>1</td>\n",
       "      <td>1</td>\n",
       "      <td>at_home</td>\n",
       "      <td>other</td>\n",
       "      <td>...</td>\n",
       "      <td>5.0</td>\n",
       "      <td>3.0</td>\n",
       "      <td>3.0</td>\n",
       "      <td>1.0</td>\n",
       "      <td>1.0</td>\n",
       "      <td>3.0</td>\n",
       "      <td>4.0</td>\n",
       "      <td>5.0</td>\n",
       "      <td>5.0</td>\n",
       "      <td>6.0</td>\n",
       "    </tr>\n",
       "    <tr>\n",
       "      <th>3</th>\n",
       "      <td>GP</td>\n",
       "      <td>F</td>\n",
       "      <td>15</td>\n",
       "      <td>U</td>\n",
       "      <td>LE3</td>\n",
       "      <td>T</td>\n",
       "      <td>1</td>\n",
       "      <td>1</td>\n",
       "      <td>at_home</td>\n",
       "      <td>other</td>\n",
       "      <td>...</td>\n",
       "      <td>4.0</td>\n",
       "      <td>3.0</td>\n",
       "      <td>2.0</td>\n",
       "      <td>2.0</td>\n",
       "      <td>3.0</td>\n",
       "      <td>3.0</td>\n",
       "      <td>10.0</td>\n",
       "      <td>7.0</td>\n",
       "      <td>8.0</td>\n",
       "      <td>10.0</td>\n",
       "    </tr>\n",
       "    <tr>\n",
       "      <th>4</th>\n",
       "      <td>GP</td>\n",
       "      <td>F</td>\n",
       "      <td>15</td>\n",
       "      <td>U</td>\n",
       "      <td>GT3</td>\n",
       "      <td>T</td>\n",
       "      <td>4</td>\n",
       "      <td>2</td>\n",
       "      <td>health</td>\n",
       "      <td>services</td>\n",
       "      <td>...</td>\n",
       "      <td>3.0</td>\n",
       "      <td>2.0</td>\n",
       "      <td>2.0</td>\n",
       "      <td>1.0</td>\n",
       "      <td>1.0</td>\n",
       "      <td>5.0</td>\n",
       "      <td>2.0</td>\n",
       "      <td>15.0</td>\n",
       "      <td>14.0</td>\n",
       "      <td>15.0</td>\n",
       "    </tr>\n",
       "  </tbody>\n",
       "</table>\n",
       "<p>5 rows × 54 columns</p>\n",
       "</div>"
      ],
      "text/plain": [
       "  school sex  age address famsize Pstatus  Medu  Fedu     Mjob      Fjob  ...  \\\n",
       "0     GP   F   18       U     GT3       A     4     4  at_home   teacher  ...   \n",
       "1     GP   F   17       U     GT3       T     1     1  at_home     other  ...   \n",
       "2     GP   F   17       U     GT3       T     1     1  at_home     other  ...   \n",
       "3     GP   F   15       U     LE3       T     1     1  at_home     other  ...   \n",
       "4     GP   F   15       U     GT3       T     4     2   health  services  ...   \n",
       "\n",
       "  famrel_y freetime_y  goout_y  Dalc_y  Walc_y health_y absences_y  G1_y  \\\n",
       "0      4.0        3.0      4.0     1.0     1.0      3.0        6.0   5.0   \n",
       "1      5.0        3.0      3.0     1.0     1.0      3.0        4.0   5.0   \n",
       "2      5.0        3.0      3.0     1.0     1.0      3.0        4.0   5.0   \n",
       "3      4.0        3.0      2.0     2.0     3.0      3.0       10.0   7.0   \n",
       "4      3.0        2.0      2.0     1.0     1.0      5.0        2.0  15.0   \n",
       "\n",
       "   G2_y  G3_y  \n",
       "0   6.0   6.0  \n",
       "1   5.0   6.0  \n",
       "2   5.0   6.0  \n",
       "3   8.0  10.0  \n",
       "4  14.0  15.0  \n",
       "\n",
       "[5 rows x 54 columns]"
      ]
     },
     "execution_count": 269,
     "metadata": {},
     "output_type": "execute_result"
    }
   ],
   "source": [
    "student_data.head()"
   ]
  },
  {
   "cell_type": "code",
   "execution_count": 270,
   "id": "2b47a7fc",
   "metadata": {},
   "outputs": [],
   "source": [
    "por = pd.read_csv(\"student_por.csv\")"
   ]
  },
  {
   "cell_type": "code",
   "execution_count": 271,
   "id": "91aa58b5",
   "metadata": {},
   "outputs": [
    {
     "data": {
      "text/html": [
       "<div>\n",
       "<style scoped>\n",
       "    .dataframe tbody tr th:only-of-type {\n",
       "        vertical-align: middle;\n",
       "    }\n",
       "\n",
       "    .dataframe tbody tr th {\n",
       "        vertical-align: top;\n",
       "    }\n",
       "\n",
       "    .dataframe thead th {\n",
       "        text-align: right;\n",
       "    }\n",
       "</style>\n",
       "<table border=\"1\" class=\"dataframe\">\n",
       "  <thead>\n",
       "    <tr style=\"text-align: right;\">\n",
       "      <th></th>\n",
       "      <th>school</th>\n",
       "      <th>sex</th>\n",
       "      <th>age</th>\n",
       "      <th>address</th>\n",
       "      <th>famsize</th>\n",
       "      <th>Pstatus</th>\n",
       "      <th>Medu</th>\n",
       "      <th>Fedu</th>\n",
       "      <th>Mjob</th>\n",
       "      <th>Fjob</th>\n",
       "      <th>...</th>\n",
       "      <th>famrel</th>\n",
       "      <th>freetime</th>\n",
       "      <th>goout</th>\n",
       "      <th>Dalc</th>\n",
       "      <th>Walc</th>\n",
       "      <th>health</th>\n",
       "      <th>absences</th>\n",
       "      <th>G1</th>\n",
       "      <th>G2</th>\n",
       "      <th>G3</th>\n",
       "    </tr>\n",
       "  </thead>\n",
       "  <tbody>\n",
       "    <tr>\n",
       "      <th>0</th>\n",
       "      <td>GP</td>\n",
       "      <td>F</td>\n",
       "      <td>18</td>\n",
       "      <td>U</td>\n",
       "      <td>GT3</td>\n",
       "      <td>A</td>\n",
       "      <td>4</td>\n",
       "      <td>4</td>\n",
       "      <td>at_home</td>\n",
       "      <td>teacher</td>\n",
       "      <td>...</td>\n",
       "      <td>4</td>\n",
       "      <td>3</td>\n",
       "      <td>4</td>\n",
       "      <td>1</td>\n",
       "      <td>1</td>\n",
       "      <td>3</td>\n",
       "      <td>4</td>\n",
       "      <td>0</td>\n",
       "      <td>11</td>\n",
       "      <td>11</td>\n",
       "    </tr>\n",
       "    <tr>\n",
       "      <th>1</th>\n",
       "      <td>GP</td>\n",
       "      <td>F</td>\n",
       "      <td>17</td>\n",
       "      <td>U</td>\n",
       "      <td>GT3</td>\n",
       "      <td>T</td>\n",
       "      <td>1</td>\n",
       "      <td>1</td>\n",
       "      <td>at_home</td>\n",
       "      <td>other</td>\n",
       "      <td>...</td>\n",
       "      <td>5</td>\n",
       "      <td>3</td>\n",
       "      <td>3</td>\n",
       "      <td>1</td>\n",
       "      <td>1</td>\n",
       "      <td>3</td>\n",
       "      <td>2</td>\n",
       "      <td>9</td>\n",
       "      <td>11</td>\n",
       "      <td>11</td>\n",
       "    </tr>\n",
       "    <tr>\n",
       "      <th>2</th>\n",
       "      <td>GP</td>\n",
       "      <td>F</td>\n",
       "      <td>15</td>\n",
       "      <td>U</td>\n",
       "      <td>LE3</td>\n",
       "      <td>T</td>\n",
       "      <td>1</td>\n",
       "      <td>1</td>\n",
       "      <td>at_home</td>\n",
       "      <td>other</td>\n",
       "      <td>...</td>\n",
       "      <td>4</td>\n",
       "      <td>3</td>\n",
       "      <td>2</td>\n",
       "      <td>2</td>\n",
       "      <td>3</td>\n",
       "      <td>3</td>\n",
       "      <td>6</td>\n",
       "      <td>12</td>\n",
       "      <td>13</td>\n",
       "      <td>12</td>\n",
       "    </tr>\n",
       "    <tr>\n",
       "      <th>3</th>\n",
       "      <td>GP</td>\n",
       "      <td>F</td>\n",
       "      <td>15</td>\n",
       "      <td>U</td>\n",
       "      <td>GT3</td>\n",
       "      <td>T</td>\n",
       "      <td>4</td>\n",
       "      <td>2</td>\n",
       "      <td>health</td>\n",
       "      <td>services</td>\n",
       "      <td>...</td>\n",
       "      <td>3</td>\n",
       "      <td>2</td>\n",
       "      <td>2</td>\n",
       "      <td>1</td>\n",
       "      <td>1</td>\n",
       "      <td>5</td>\n",
       "      <td>0</td>\n",
       "      <td>14</td>\n",
       "      <td>14</td>\n",
       "      <td>14</td>\n",
       "    </tr>\n",
       "    <tr>\n",
       "      <th>4</th>\n",
       "      <td>GP</td>\n",
       "      <td>F</td>\n",
       "      <td>16</td>\n",
       "      <td>U</td>\n",
       "      <td>GT3</td>\n",
       "      <td>T</td>\n",
       "      <td>3</td>\n",
       "      <td>3</td>\n",
       "      <td>other</td>\n",
       "      <td>other</td>\n",
       "      <td>...</td>\n",
       "      <td>4</td>\n",
       "      <td>3</td>\n",
       "      <td>2</td>\n",
       "      <td>1</td>\n",
       "      <td>2</td>\n",
       "      <td>5</td>\n",
       "      <td>0</td>\n",
       "      <td>11</td>\n",
       "      <td>13</td>\n",
       "      <td>13</td>\n",
       "    </tr>\n",
       "  </tbody>\n",
       "</table>\n",
       "<p>5 rows × 33 columns</p>\n",
       "</div>"
      ],
      "text/plain": [
       "  school sex  age address famsize Pstatus  Medu  Fedu     Mjob      Fjob  ...  \\\n",
       "0     GP   F   18       U     GT3       A     4     4  at_home   teacher  ...   \n",
       "1     GP   F   17       U     GT3       T     1     1  at_home     other  ...   \n",
       "2     GP   F   15       U     LE3       T     1     1  at_home     other  ...   \n",
       "3     GP   F   15       U     GT3       T     4     2   health  services  ...   \n",
       "4     GP   F   16       U     GT3       T     3     3    other     other  ...   \n",
       "\n",
       "  famrel freetime  goout  Dalc  Walc health absences  G1  G2  G3  \n",
       "0      4        3      4     1     1      3        4   0  11  11  \n",
       "1      5        3      3     1     1      3        2   9  11  11  \n",
       "2      4        3      2     2     3      3        6  12  13  12  \n",
       "3      3        2      2     1     1      5        0  14  14  14  \n",
       "4      4        3      2     1     2      5        0  11  13  13  \n",
       "\n",
       "[5 rows x 33 columns]"
      ]
     },
     "execution_count": 271,
     "metadata": {},
     "output_type": "execute_result"
    }
   ],
   "source": [
    "por.head()"
   ]
  },
  {
   "cell_type": "code",
   "execution_count": 272,
   "id": "35f43559",
   "metadata": {},
   "outputs": [
    {
     "name": "stdout",
     "output_type": "stream",
     "text": [
      "<class 'pandas.core.frame.DataFrame'>\n",
      "RangeIndex: 649 entries, 0 to 648\n",
      "Data columns (total 33 columns):\n",
      " #   Column      Non-Null Count  Dtype \n",
      "---  ------      --------------  ----- \n",
      " 0   school      649 non-null    object\n",
      " 1   sex         649 non-null    object\n",
      " 2   age         649 non-null    int64 \n",
      " 3   address     649 non-null    object\n",
      " 4   famsize     649 non-null    object\n",
      " 5   Pstatus     649 non-null    object\n",
      " 6   Medu        649 non-null    int64 \n",
      " 7   Fedu        649 non-null    int64 \n",
      " 8   Mjob        649 non-null    object\n",
      " 9   Fjob        649 non-null    object\n",
      " 10  reason      649 non-null    object\n",
      " 11  guardian    649 non-null    object\n",
      " 12  traveltime  649 non-null    int64 \n",
      " 13  studytime   649 non-null    int64 \n",
      " 14  failures    649 non-null    int64 \n",
      " 15  schoolsup   649 non-null    object\n",
      " 16  famsup      649 non-null    object\n",
      " 17  paid        649 non-null    object\n",
      " 18  activities  649 non-null    object\n",
      " 19  nursery     649 non-null    object\n",
      " 20  higher      649 non-null    object\n",
      " 21  internet    649 non-null    object\n",
      " 22  romantic    649 non-null    object\n",
      " 23  famrel      649 non-null    int64 \n",
      " 24  freetime    649 non-null    int64 \n",
      " 25  goout       649 non-null    int64 \n",
      " 26  Dalc        649 non-null    int64 \n",
      " 27  Walc        649 non-null    int64 \n",
      " 28  health      649 non-null    int64 \n",
      " 29  absences    649 non-null    int64 \n",
      " 30  G1          649 non-null    int64 \n",
      " 31  G2          649 non-null    int64 \n",
      " 32  G3          649 non-null    int64 \n",
      "dtypes: int64(16), object(17)\n",
      "memory usage: 167.4+ KB\n"
     ]
    }
   ],
   "source": [
    "por.info()"
   ]
  },
  {
   "cell_type": "code",
   "execution_count": 273,
   "id": "9b68babd",
   "metadata": {},
   "outputs": [
    {
     "data": {
      "text/html": [
       "<div>\n",
       "<style scoped>\n",
       "    .dataframe tbody tr th:only-of-type {\n",
       "        vertical-align: middle;\n",
       "    }\n",
       "\n",
       "    .dataframe tbody tr th {\n",
       "        vertical-align: top;\n",
       "    }\n",
       "\n",
       "    .dataframe thead th {\n",
       "        text-align: right;\n",
       "    }\n",
       "</style>\n",
       "<table border=\"1\" class=\"dataframe\">\n",
       "  <thead>\n",
       "    <tr style=\"text-align: right;\">\n",
       "      <th></th>\n",
       "      <th>schoolsup</th>\n",
       "      <th>famsup</th>\n",
       "      <th>paid</th>\n",
       "      <th>activities</th>\n",
       "      <th>nursery</th>\n",
       "      <th>higher</th>\n",
       "      <th>internet</th>\n",
       "      <th>romantic</th>\n",
       "    </tr>\n",
       "  </thead>\n",
       "  <tbody>\n",
       "    <tr>\n",
       "      <th>0</th>\n",
       "      <td>yes</td>\n",
       "      <td>no</td>\n",
       "      <td>no</td>\n",
       "      <td>no</td>\n",
       "      <td>yes</td>\n",
       "      <td>yes</td>\n",
       "      <td>no</td>\n",
       "      <td>no</td>\n",
       "    </tr>\n",
       "    <tr>\n",
       "      <th>1</th>\n",
       "      <td>no</td>\n",
       "      <td>yes</td>\n",
       "      <td>no</td>\n",
       "      <td>no</td>\n",
       "      <td>no</td>\n",
       "      <td>yes</td>\n",
       "      <td>yes</td>\n",
       "      <td>no</td>\n",
       "    </tr>\n",
       "    <tr>\n",
       "      <th>2</th>\n",
       "      <td>yes</td>\n",
       "      <td>no</td>\n",
       "      <td>no</td>\n",
       "      <td>no</td>\n",
       "      <td>yes</td>\n",
       "      <td>yes</td>\n",
       "      <td>yes</td>\n",
       "      <td>no</td>\n",
       "    </tr>\n",
       "    <tr>\n",
       "      <th>3</th>\n",
       "      <td>no</td>\n",
       "      <td>yes</td>\n",
       "      <td>no</td>\n",
       "      <td>yes</td>\n",
       "      <td>yes</td>\n",
       "      <td>yes</td>\n",
       "      <td>yes</td>\n",
       "      <td>yes</td>\n",
       "    </tr>\n",
       "    <tr>\n",
       "      <th>4</th>\n",
       "      <td>no</td>\n",
       "      <td>yes</td>\n",
       "      <td>no</td>\n",
       "      <td>no</td>\n",
       "      <td>yes</td>\n",
       "      <td>yes</td>\n",
       "      <td>no</td>\n",
       "      <td>no</td>\n",
       "    </tr>\n",
       "  </tbody>\n",
       "</table>\n",
       "</div>"
      ],
      "text/plain": [
       "  schoolsup famsup paid activities nursery higher internet romantic\n",
       "0       yes     no   no         no     yes    yes       no       no\n",
       "1        no    yes   no         no      no    yes      yes       no\n",
       "2       yes     no   no         no     yes    yes      yes       no\n",
       "3        no    yes   no        yes     yes    yes      yes      yes\n",
       "4        no    yes   no         no     yes    yes       no       no"
      ]
     },
     "execution_count": 273,
     "metadata": {},
     "output_type": "execute_result"
    }
   ],
   "source": [
    "#to be able to compute correlation from 32 dimensions, we are transforming categorical variables into numerical\n",
    "#transformation 1: binary yes/no to 1/0\n",
    "por.loc[:, \"schoolsup\":\"romantic\"].head()"
   ]
  },
  {
   "cell_type": "code",
   "execution_count": 274,
   "id": "2cfd7cab",
   "metadata": {},
   "outputs": [],
   "source": [
    "por = por.replace({\"yes\":1, \"no\":0})"
   ]
  },
  {
   "cell_type": "code",
   "execution_count": 275,
   "id": "029bbff4",
   "metadata": {},
   "outputs": [
    {
     "data": {
      "text/html": [
       "<div>\n",
       "<style scoped>\n",
       "    .dataframe tbody tr th:only-of-type {\n",
       "        vertical-align: middle;\n",
       "    }\n",
       "\n",
       "    .dataframe tbody tr th {\n",
       "        vertical-align: top;\n",
       "    }\n",
       "\n",
       "    .dataframe thead th {\n",
       "        text-align: right;\n",
       "    }\n",
       "</style>\n",
       "<table border=\"1\" class=\"dataframe\">\n",
       "  <thead>\n",
       "    <tr style=\"text-align: right;\">\n",
       "      <th></th>\n",
       "      <th>schoolsup</th>\n",
       "      <th>famsup</th>\n",
       "      <th>paid</th>\n",
       "      <th>activities</th>\n",
       "      <th>nursery</th>\n",
       "      <th>higher</th>\n",
       "      <th>internet</th>\n",
       "      <th>romantic</th>\n",
       "    </tr>\n",
       "  </thead>\n",
       "  <tbody>\n",
       "    <tr>\n",
       "      <th>0</th>\n",
       "      <td>1</td>\n",
       "      <td>0</td>\n",
       "      <td>0</td>\n",
       "      <td>0</td>\n",
       "      <td>1</td>\n",
       "      <td>1</td>\n",
       "      <td>0</td>\n",
       "      <td>0</td>\n",
       "    </tr>\n",
       "    <tr>\n",
       "      <th>1</th>\n",
       "      <td>0</td>\n",
       "      <td>1</td>\n",
       "      <td>0</td>\n",
       "      <td>0</td>\n",
       "      <td>0</td>\n",
       "      <td>1</td>\n",
       "      <td>1</td>\n",
       "      <td>0</td>\n",
       "    </tr>\n",
       "    <tr>\n",
       "      <th>2</th>\n",
       "      <td>1</td>\n",
       "      <td>0</td>\n",
       "      <td>0</td>\n",
       "      <td>0</td>\n",
       "      <td>1</td>\n",
       "      <td>1</td>\n",
       "      <td>1</td>\n",
       "      <td>0</td>\n",
       "    </tr>\n",
       "  </tbody>\n",
       "</table>\n",
       "</div>"
      ],
      "text/plain": [
       "   schoolsup  famsup  paid  activities  nursery  higher  internet  romantic\n",
       "0          1       0     0           0        1       1         0         0\n",
       "1          0       1     0           0        0       1         1         0\n",
       "2          1       0     0           0        1       1         1         0"
      ]
     },
     "execution_count": 275,
     "metadata": {},
     "output_type": "execute_result"
    }
   ],
   "source": [
    "por.loc[:, \"schoolsup\":\"romantic\"].head(3)"
   ]
  },
  {
   "cell_type": "code",
   "execution_count": 276,
   "id": "d65d5b72",
   "metadata": {},
   "outputs": [],
   "source": [
    "#transformation 2: sex, F=0, M=1\n",
    "por[\"gender\"]=por[\"sex\"].apply(lambda x: 0 if x==\"F\" else 1)"
   ]
  },
  {
   "cell_type": "code",
   "execution_count": 277,
   "id": "5440be02",
   "metadata": {},
   "outputs": [
    {
     "data": {
      "text/plain": [
       "F    383\n",
       "M    266\n",
       "Name: sex, dtype: int64"
      ]
     },
     "execution_count": 277,
     "metadata": {},
     "output_type": "execute_result"
    }
   ],
   "source": [
    "por[\"sex\"].value_counts()"
   ]
  },
  {
   "cell_type": "code",
   "execution_count": 278,
   "id": "3dcad7c3",
   "metadata": {
    "scrolled": true
   },
   "outputs": [
    {
     "data": {
      "text/plain": [
       "0    383\n",
       "1    266\n",
       "Name: gender, dtype: int64"
      ]
     },
     "execution_count": 278,
     "metadata": {},
     "output_type": "execute_result"
    }
   ],
   "source": [
    "por[\"gender\"].value_counts()"
   ]
  },
  {
   "cell_type": "code",
   "execution_count": 279,
   "id": "f884d284",
   "metadata": {},
   "outputs": [
    {
     "data": {
      "text/plain": [
       "GT3    457\n",
       "LE3    192\n",
       "Name: famsize, dtype: int64"
      ]
     },
     "execution_count": 279,
     "metadata": {},
     "output_type": "execute_result"
    }
   ],
   "source": [
    "#transformation 3: family size, LE3 - less then 3=0, GT3 - greater than 3=1\n",
    "por[\"famsize\"].value_counts()"
   ]
  },
  {
   "cell_type": "code",
   "execution_count": 280,
   "id": "0ebf8412",
   "metadata": {},
   "outputs": [],
   "source": [
    "por[\"familysize\"] = por[\"famsize\"].apply(lambda x:0 if x==\"LE3\" else 1)"
   ]
  },
  {
   "cell_type": "code",
   "execution_count": 281,
   "id": "441f1aa0",
   "metadata": {},
   "outputs": [
    {
     "data": {
      "text/plain": [
       "T    569\n",
       "A     80\n",
       "Name: Pstatus, dtype: int64"
      ]
     },
     "execution_count": 281,
     "metadata": {},
     "output_type": "execute_result"
    }
   ],
   "source": [
    "#transformation 4: parent status, A-apart = 0, T-together =1\n",
    "por[\"Pstatus\"].value_counts()"
   ]
  },
  {
   "cell_type": "code",
   "execution_count": 282,
   "id": "0f926693",
   "metadata": {},
   "outputs": [],
   "source": [
    "por[\"parentstatus\"] = por[\"Pstatus\"].apply(lambda x:0 if x==\"A\" else 1)"
   ]
  },
  {
   "cell_type": "code",
   "execution_count": 283,
   "id": "9c315ab0",
   "metadata": {},
   "outputs": [],
   "source": [
    "#transformation 5: address, R-rural= 0, U-urban = 1\n",
    "por[\"newaddress\"] = por[\"address\"].apply(lambda x:0 if x==\"R\" else 1)"
   ]
  },
  {
   "cell_type": "code",
   "execution_count": 284,
   "id": "1621ea56",
   "metadata": {},
   "outputs": [
    {
     "data": {
      "text/plain": [
       "mother    455\n",
       "father    153\n",
       "other      41\n",
       "Name: guardian, dtype: int64"
      ]
     },
     "execution_count": 284,
     "metadata": {},
     "output_type": "execute_result"
    }
   ],
   "source": [
    "#transformation 6: guardian\n",
    "por[\"guardian\"].value_counts()"
   ]
  },
  {
   "cell_type": "code",
   "execution_count": 285,
   "id": "573b20c8",
   "metadata": {},
   "outputs": [],
   "source": [
    "from sklearn.preprocessing import LabelEncoder\n",
    "le= LabelEncoder()"
   ]
  },
  {
   "cell_type": "code",
   "execution_count": 286,
   "id": "28c31814",
   "metadata": {},
   "outputs": [],
   "source": [
    "label = le.fit_transform(por['guardian'])"
   ]
  },
  {
   "cell_type": "code",
   "execution_count": 287,
   "id": "e3af6479",
   "metadata": {},
   "outputs": [
    {
     "data": {
      "text/plain": [
       "array([1, 0, 1, 1, 0, 1, 1, 1, 1, 1, 1, 0, 0, 1, 2, 1, 1, 1, 1, 0, 1, 0,\n",
       "       1, 1, 1, 1, 1, 1, 1, 1, 1, 1, 1, 1, 1, 0, 1, 1, 1, 1, 1, 2, 0, 0,\n",
       "       0, 1, 1, 1, 1, 0, 1, 1, 0, 1, 1, 1, 1, 1, 0, 1, 1, 0, 0, 1, 0, 1,\n",
       "       1, 1, 1, 0, 0, 1, 1, 1, 1, 1, 1, 1, 1, 1, 0, 1, 1, 1, 0, 0, 1, 1,\n",
       "       0, 1, 1, 1, 0, 1, 1, 1, 1, 1, 1, 1, 1, 0, 1, 1, 1, 0, 1, 0, 0, 1,\n",
       "       1, 0, 1, 1, 1, 0, 0, 0, 0, 0, 1, 0, 0, 1, 1, 0, 1, 2, 1, 1, 0, 1,\n",
       "       1, 1, 0, 0, 1, 1, 1, 1, 1, 1, 1, 2, 1, 2, 1, 1, 1, 0, 1, 1, 0, 1,\n",
       "       1, 1, 0, 1, 0, 1, 0, 1, 1, 1, 1, 2, 1, 1, 1, 1, 1, 1, 0, 1, 1, 1,\n",
       "       1, 0, 1, 1, 0, 0, 1, 1, 0, 1, 1, 1, 1, 1, 1, 0, 1, 1, 1, 1, 0, 1,\n",
       "       1, 1, 1, 1, 1, 1, 1, 1, 2, 1, 0, 0, 1, 0, 1, 1, 1, 1, 1, 1, 1, 1,\n",
       "       1, 1, 1, 1, 2, 1, 1, 1, 1, 1, 1, 0, 0, 1, 1, 1, 1, 1, 1, 1, 1, 0,\n",
       "       1, 1, 0, 0, 1, 0, 1, 1, 0, 1, 1, 1, 1, 1, 2, 1, 0, 1, 1, 1, 2, 0,\n",
       "       1, 1, 1, 1, 1, 1, 1, 1, 0, 1, 1, 2, 1, 0, 0, 1, 1, 1, 1, 2, 1, 1,\n",
       "       1, 1, 1, 1, 1, 1, 1, 1, 1, 1, 1, 1, 0, 2, 0, 1, 1, 1, 1, 0, 1, 1,\n",
       "       1, 0, 1, 2, 0, 1, 1, 1, 1, 1, 1, 1, 0, 0, 0, 1, 2, 1, 1, 1, 1, 1,\n",
       "       1, 0, 1, 1, 1, 1, 1, 1, 1, 1, 1, 2, 2, 0, 1, 1, 0, 1, 1, 0, 1, 2,\n",
       "       0, 1, 1, 0, 1, 1, 1, 0, 0, 1, 1, 1, 1, 1, 1, 0, 0, 2, 2, 1, 1, 1,\n",
       "       0, 0, 1, 1, 1, 1, 1, 1, 1, 1, 2, 1, 0, 1, 1, 2, 1, 1, 1, 1, 1, 0,\n",
       "       1, 0, 1, 1, 1, 1, 1, 1, 1, 2, 1, 2, 1, 2, 1, 1, 1, 2, 2, 2, 1, 0,\n",
       "       0, 1, 1, 1, 1, 0, 1, 1, 1, 1, 1, 1, 1, 0, 0, 1, 1, 0, 1, 1, 1, 0,\n",
       "       1, 1, 0, 0, 1, 1, 0, 1, 1, 1, 1, 0, 1, 1, 1, 1, 0, 1, 0, 0, 0, 1,\n",
       "       0, 0, 0, 0, 1, 0, 1, 0, 1, 1, 0, 1, 0, 1, 1, 0, 0, 1, 2, 1, 1, 0,\n",
       "       1, 1, 0, 2, 1, 1, 1, 2, 1, 0, 1, 1, 1, 1, 1, 1, 0, 0, 1, 2, 1, 1,\n",
       "       1, 0, 1, 0, 1, 1, 1, 1, 1, 1, 0, 1, 0, 1, 1, 1, 1, 1, 1, 1, 1, 1,\n",
       "       1, 0, 1, 1, 1, 1, 0, 1, 1, 1, 1, 1, 1, 1, 1, 0, 0, 1, 0, 0, 1, 1,\n",
       "       0, 0, 1, 1, 0, 0, 1, 1, 1, 2, 1, 1, 0, 1, 0, 1, 2, 1, 1, 1, 1, 2,\n",
       "       1, 1, 2, 1, 1, 2, 1, 1, 2, 1, 1, 1, 1, 2, 1, 1, 1, 0, 1, 0, 1, 1,\n",
       "       1, 1, 1, 1, 1, 1, 0, 1, 0, 1, 1, 0, 0, 1, 1, 0, 2, 1, 1, 0, 0, 1,\n",
       "       0, 0, 1, 1, 1, 0, 1, 1, 1, 0, 0, 0, 1, 1, 1, 1, 2, 1, 1, 1, 0, 1,\n",
       "       0, 1, 0, 1, 1, 1, 1, 1, 1, 1, 1])"
      ]
     },
     "execution_count": 287,
     "metadata": {},
     "output_type": "execute_result"
    }
   ],
   "source": [
    "label"
   ]
  },
  {
   "cell_type": "code",
   "execution_count": 288,
   "id": "aef5d326",
   "metadata": {},
   "outputs": [],
   "source": [
    "por[\"student_guardian\"] = label"
   ]
  },
  {
   "cell_type": "code",
   "execution_count": 289,
   "id": "8c074405",
   "metadata": {},
   "outputs": [
    {
     "data": {
      "text/plain": [
       "1    455\n",
       "0    153\n",
       "2     41\n",
       "Name: student_guardian, dtype: int64"
      ]
     },
     "execution_count": 289,
     "metadata": {},
     "output_type": "execute_result"
    }
   ],
   "source": [
    "por[\"student_guardian\"].value_counts() #father = 0, mother = 1, other = 2"
   ]
  },
  {
   "cell_type": "code",
   "execution_count": 290,
   "id": "fd1203b9",
   "metadata": {},
   "outputs": [
    {
     "name": "stdout",
     "output_type": "stream",
     "text": [
      "<class 'pandas.core.frame.DataFrame'>\n",
      "RangeIndex: 649 entries, 0 to 648\n",
      "Data columns (total 38 columns):\n",
      " #   Column            Non-Null Count  Dtype \n",
      "---  ------            --------------  ----- \n",
      " 0   school            649 non-null    object\n",
      " 1   sex               649 non-null    object\n",
      " 2   age               649 non-null    int64 \n",
      " 3   address           649 non-null    object\n",
      " 4   famsize           649 non-null    object\n",
      " 5   Pstatus           649 non-null    object\n",
      " 6   Medu              649 non-null    int64 \n",
      " 7   Fedu              649 non-null    int64 \n",
      " 8   Mjob              649 non-null    object\n",
      " 9   Fjob              649 non-null    object\n",
      " 10  reason            649 non-null    object\n",
      " 11  guardian          649 non-null    object\n",
      " 12  traveltime        649 non-null    int64 \n",
      " 13  studytime         649 non-null    int64 \n",
      " 14  failures          649 non-null    int64 \n",
      " 15  schoolsup         649 non-null    int64 \n",
      " 16  famsup            649 non-null    int64 \n",
      " 17  paid              649 non-null    int64 \n",
      " 18  activities        649 non-null    int64 \n",
      " 19  nursery           649 non-null    int64 \n",
      " 20  higher            649 non-null    int64 \n",
      " 21  internet          649 non-null    int64 \n",
      " 22  romantic          649 non-null    int64 \n",
      " 23  famrel            649 non-null    int64 \n",
      " 24  freetime          649 non-null    int64 \n",
      " 25  goout             649 non-null    int64 \n",
      " 26  Dalc              649 non-null    int64 \n",
      " 27  Walc              649 non-null    int64 \n",
      " 28  health            649 non-null    int64 \n",
      " 29  absences          649 non-null    int64 \n",
      " 30  G1                649 non-null    int64 \n",
      " 31  G2                649 non-null    int64 \n",
      " 32  G3                649 non-null    int64 \n",
      " 33  gender            649 non-null    int64 \n",
      " 34  familysize        649 non-null    int64 \n",
      " 35  parentstatus      649 non-null    int64 \n",
      " 36  newaddress        649 non-null    int64 \n",
      " 37  student_guardian  649 non-null    int64 \n",
      "dtypes: int64(29), object(9)\n",
      "memory usage: 192.8+ KB\n"
     ]
    }
   ],
   "source": [
    "por.info()"
   ]
  },
  {
   "cell_type": "code",
   "execution_count": 291,
   "id": "a9d49e96",
   "metadata": {},
   "outputs": [],
   "source": [
    "por = por.drop([\"sex\", \"famsize\", \"address\", \"Pstatus\", \"guardian\"], axis=1)"
   ]
  },
  {
   "cell_type": "code",
   "execution_count": 292,
   "id": "e8576a9d",
   "metadata": {
    "scrolled": true
   },
   "outputs": [
    {
     "data": {
      "text/plain": [
       "Dalc                1.000000\n",
       "Walc                0.616561\n",
       "gender              0.282696\n",
       "goout               0.245126\n",
       "absences            0.172952\n",
       "age                 0.134768\n",
       "freetime            0.109904\n",
       "failures            0.105949\n",
       "traveltime          0.092824\n",
       "romantic            0.062042\n",
       "health              0.059067\n",
       "paid                0.051986\n",
       "internet            0.042811\n",
       "parentstatus        0.041513\n",
       "student_guardian    0.023330\n",
       "activities          0.022592\n",
       "Fedu                0.000061\n",
       "Medu               -0.007018\n",
       "famsup             -0.016844\n",
       "schoolsup          -0.028076\n",
       "newaddress         -0.047304\n",
       "familysize         -0.060482\n",
       "famrel             -0.075767\n",
       "nursery            -0.078376\n",
       "higher             -0.131663\n",
       "studytime          -0.137585\n",
       "G2                 -0.189480\n",
       "G1                 -0.195171\n",
       "G3                 -0.204719\n",
       "Name: Dalc, dtype: float64"
      ]
     },
     "execution_count": 292,
     "metadata": {},
     "output_type": "execute_result"
    }
   ],
   "source": [
    "#linear regression model 2: predicting weekday alcohol consumption - Dalc\n",
    "new_corr2 = por.corr()\n",
    "new_corr2[\"Dalc\"].sort_values(ascending=False)"
   ]
  },
  {
   "cell_type": "code",
   "execution_count": 293,
   "id": "fea255bc",
   "metadata": {},
   "outputs": [],
   "source": [
    "#linear regression model 2: predicting weekday alcohol consumption - Dalc\n",
    "#drop variables where the correlation is less than +-0.06\n",
    "por = por.drop([\"health\", \"paid\", \"internet\", \"parentstatus\", \"student_guardian\", \"activities\", \"Fedu\",\\\n",
    "               \"Medu\", \"famsup\", \"schoolsup\", \"newaddress\"], axis=1)"
   ]
  },
  {
   "cell_type": "code",
   "execution_count": 294,
   "id": "2c240d9c",
   "metadata": {},
   "outputs": [
    {
     "data": {
      "text/html": [
       "<div>\n",
       "<style scoped>\n",
       "    .dataframe tbody tr th:only-of-type {\n",
       "        vertical-align: middle;\n",
       "    }\n",
       "\n",
       "    .dataframe tbody tr th {\n",
       "        vertical-align: top;\n",
       "    }\n",
       "\n",
       "    .dataframe thead th {\n",
       "        text-align: right;\n",
       "    }\n",
       "</style>\n",
       "<table border=\"1\" class=\"dataframe\">\n",
       "  <thead>\n",
       "    <tr style=\"text-align: right;\">\n",
       "      <th></th>\n",
       "      <th>school</th>\n",
       "      <th>age</th>\n",
       "      <th>Mjob</th>\n",
       "      <th>Fjob</th>\n",
       "      <th>reason</th>\n",
       "      <th>traveltime</th>\n",
       "      <th>studytime</th>\n",
       "      <th>failures</th>\n",
       "      <th>nursery</th>\n",
       "      <th>higher</th>\n",
       "      <th>...</th>\n",
       "      <th>freetime</th>\n",
       "      <th>goout</th>\n",
       "      <th>Dalc</th>\n",
       "      <th>Walc</th>\n",
       "      <th>absences</th>\n",
       "      <th>G1</th>\n",
       "      <th>G2</th>\n",
       "      <th>G3</th>\n",
       "      <th>gender</th>\n",
       "      <th>familysize</th>\n",
       "    </tr>\n",
       "  </thead>\n",
       "  <tbody>\n",
       "    <tr>\n",
       "      <th>0</th>\n",
       "      <td>GP</td>\n",
       "      <td>18</td>\n",
       "      <td>at_home</td>\n",
       "      <td>teacher</td>\n",
       "      <td>course</td>\n",
       "      <td>2</td>\n",
       "      <td>2</td>\n",
       "      <td>0</td>\n",
       "      <td>1</td>\n",
       "      <td>1</td>\n",
       "      <td>...</td>\n",
       "      <td>3</td>\n",
       "      <td>4</td>\n",
       "      <td>1</td>\n",
       "      <td>1</td>\n",
       "      <td>4</td>\n",
       "      <td>0</td>\n",
       "      <td>11</td>\n",
       "      <td>11</td>\n",
       "      <td>0</td>\n",
       "      <td>1</td>\n",
       "    </tr>\n",
       "    <tr>\n",
       "      <th>1</th>\n",
       "      <td>GP</td>\n",
       "      <td>17</td>\n",
       "      <td>at_home</td>\n",
       "      <td>other</td>\n",
       "      <td>course</td>\n",
       "      <td>1</td>\n",
       "      <td>2</td>\n",
       "      <td>0</td>\n",
       "      <td>0</td>\n",
       "      <td>1</td>\n",
       "      <td>...</td>\n",
       "      <td>3</td>\n",
       "      <td>3</td>\n",
       "      <td>1</td>\n",
       "      <td>1</td>\n",
       "      <td>2</td>\n",
       "      <td>9</td>\n",
       "      <td>11</td>\n",
       "      <td>11</td>\n",
       "      <td>0</td>\n",
       "      <td>1</td>\n",
       "    </tr>\n",
       "    <tr>\n",
       "      <th>2</th>\n",
       "      <td>GP</td>\n",
       "      <td>15</td>\n",
       "      <td>at_home</td>\n",
       "      <td>other</td>\n",
       "      <td>other</td>\n",
       "      <td>1</td>\n",
       "      <td>2</td>\n",
       "      <td>0</td>\n",
       "      <td>1</td>\n",
       "      <td>1</td>\n",
       "      <td>...</td>\n",
       "      <td>3</td>\n",
       "      <td>2</td>\n",
       "      <td>2</td>\n",
       "      <td>3</td>\n",
       "      <td>6</td>\n",
       "      <td>12</td>\n",
       "      <td>13</td>\n",
       "      <td>12</td>\n",
       "      <td>0</td>\n",
       "      <td>0</td>\n",
       "    </tr>\n",
       "    <tr>\n",
       "      <th>3</th>\n",
       "      <td>GP</td>\n",
       "      <td>15</td>\n",
       "      <td>health</td>\n",
       "      <td>services</td>\n",
       "      <td>home</td>\n",
       "      <td>1</td>\n",
       "      <td>3</td>\n",
       "      <td>0</td>\n",
       "      <td>1</td>\n",
       "      <td>1</td>\n",
       "      <td>...</td>\n",
       "      <td>2</td>\n",
       "      <td>2</td>\n",
       "      <td>1</td>\n",
       "      <td>1</td>\n",
       "      <td>0</td>\n",
       "      <td>14</td>\n",
       "      <td>14</td>\n",
       "      <td>14</td>\n",
       "      <td>0</td>\n",
       "      <td>1</td>\n",
       "    </tr>\n",
       "    <tr>\n",
       "      <th>4</th>\n",
       "      <td>GP</td>\n",
       "      <td>16</td>\n",
       "      <td>other</td>\n",
       "      <td>other</td>\n",
       "      <td>home</td>\n",
       "      <td>1</td>\n",
       "      <td>2</td>\n",
       "      <td>0</td>\n",
       "      <td>1</td>\n",
       "      <td>1</td>\n",
       "      <td>...</td>\n",
       "      <td>3</td>\n",
       "      <td>2</td>\n",
       "      <td>1</td>\n",
       "      <td>2</td>\n",
       "      <td>0</td>\n",
       "      <td>11</td>\n",
       "      <td>13</td>\n",
       "      <td>13</td>\n",
       "      <td>0</td>\n",
       "      <td>1</td>\n",
       "    </tr>\n",
       "  </tbody>\n",
       "</table>\n",
       "<p>5 rows × 22 columns</p>\n",
       "</div>"
      ],
      "text/plain": [
       "  school  age     Mjob      Fjob  reason  traveltime  studytime  failures  \\\n",
       "0     GP   18  at_home   teacher  course           2          2         0   \n",
       "1     GP   17  at_home     other  course           1          2         0   \n",
       "2     GP   15  at_home     other   other           1          2         0   \n",
       "3     GP   15   health  services    home           1          3         0   \n",
       "4     GP   16    other     other    home           1          2         0   \n",
       "\n",
       "   nursery  higher  ...  freetime  goout  Dalc  Walc  absences  G1  G2  G3  \\\n",
       "0        1       1  ...         3      4     1     1         4   0  11  11   \n",
       "1        0       1  ...         3      3     1     1         2   9  11  11   \n",
       "2        1       1  ...         3      2     2     3         6  12  13  12   \n",
       "3        1       1  ...         2      2     1     1         0  14  14  14   \n",
       "4        1       1  ...         3      2     1     2         0  11  13  13   \n",
       "\n",
       "   gender  familysize  \n",
       "0       0           1  \n",
       "1       0           1  \n",
       "2       0           0  \n",
       "3       0           1  \n",
       "4       0           1  \n",
       "\n",
       "[5 rows x 22 columns]"
      ]
     },
     "execution_count": 294,
     "metadata": {},
     "output_type": "execute_result"
    }
   ],
   "source": [
    "por.head()"
   ]
  },
  {
   "cell_type": "code",
   "execution_count": 295,
   "id": "61b94c37",
   "metadata": {},
   "outputs": [],
   "source": [
    "#model based off G3 final grade, dropping G1 and G2\n",
    "por = por.drop([\"G1\", \"G2\"], axis=1)"
   ]
  },
  {
   "cell_type": "code",
   "execution_count": 296,
   "id": "08bb187d",
   "metadata": {},
   "outputs": [
    {
     "name": "stdout",
     "output_type": "stream",
     "text": [
      "<class 'pandas.core.frame.DataFrame'>\n",
      "RangeIndex: 649 entries, 0 to 648\n",
      "Data columns (total 20 columns):\n",
      " #   Column      Non-Null Count  Dtype \n",
      "---  ------      --------------  ----- \n",
      " 0   school      649 non-null    object\n",
      " 1   age         649 non-null    int64 \n",
      " 2   Mjob        649 non-null    object\n",
      " 3   Fjob        649 non-null    object\n",
      " 4   reason      649 non-null    object\n",
      " 5   traveltime  649 non-null    int64 \n",
      " 6   studytime   649 non-null    int64 \n",
      " 7   failures    649 non-null    int64 \n",
      " 8   nursery     649 non-null    int64 \n",
      " 9   higher      649 non-null    int64 \n",
      " 10  romantic    649 non-null    int64 \n",
      " 11  famrel      649 non-null    int64 \n",
      " 12  freetime    649 non-null    int64 \n",
      " 13  goout       649 non-null    int64 \n",
      " 14  Dalc        649 non-null    int64 \n",
      " 15  Walc        649 non-null    int64 \n",
      " 16  absences    649 non-null    int64 \n",
      " 17  G3          649 non-null    int64 \n",
      " 18  gender      649 non-null    int64 \n",
      " 19  familysize  649 non-null    int64 \n",
      "dtypes: int64(16), object(4)\n",
      "memory usage: 101.5+ KB\n"
     ]
    }
   ],
   "source": [
    "por.info()"
   ]
  },
  {
   "cell_type": "code",
   "execution_count": 297,
   "id": "d31e00da",
   "metadata": {},
   "outputs": [],
   "source": [
    "#transform Mjob from categorical to numerical\n",
    "label1 = le.fit_transform(por['Mjob'])"
   ]
  },
  {
   "cell_type": "code",
   "execution_count": 298,
   "id": "a2db4aed",
   "metadata": {},
   "outputs": [],
   "source": [
    "por[\"motherjob\"] = label1"
   ]
  },
  {
   "cell_type": "code",
   "execution_count": 299,
   "id": "f1222296",
   "metadata": {},
   "outputs": [
    {
     "data": {
      "text/plain": [
       "2    258\n",
       "3    136\n",
       "0    135\n",
       "4     72\n",
       "1     48\n",
       "Name: motherjob, dtype: int64"
      ]
     },
     "execution_count": 299,
     "metadata": {},
     "output_type": "execute_result"
    }
   ],
   "source": [
    "por[\"motherjob\"].value_counts() #0 at home, 1 health, 2 other, 3 services, 4 teacher"
   ]
  },
  {
   "cell_type": "code",
   "execution_count": 300,
   "id": "c10ae158",
   "metadata": {},
   "outputs": [
    {
     "data": {
      "text/plain": [
       "other       258\n",
       "services    136\n",
       "at_home     135\n",
       "teacher      72\n",
       "health       48\n",
       "Name: Mjob, dtype: int64"
      ]
     },
     "execution_count": 300,
     "metadata": {},
     "output_type": "execute_result"
    }
   ],
   "source": [
    "por[\"Mjob\"].value_counts()"
   ]
  },
  {
   "cell_type": "code",
   "execution_count": 301,
   "id": "43eadb1b",
   "metadata": {},
   "outputs": [],
   "source": [
    "label2 = le.fit_transform(por['Fjob'])"
   ]
  },
  {
   "cell_type": "code",
   "execution_count": 302,
   "id": "a25f436e",
   "metadata": {},
   "outputs": [],
   "source": [
    "por[\"fatherjob\"] = label2"
   ]
  },
  {
   "cell_type": "code",
   "execution_count": 303,
   "id": "3da62dfb",
   "metadata": {},
   "outputs": [
    {
     "data": {
      "text/plain": [
       "2    367\n",
       "3    181\n",
       "0     42\n",
       "4     36\n",
       "1     23\n",
       "Name: fatherjob, dtype: int64"
      ]
     },
     "execution_count": 303,
     "metadata": {},
     "output_type": "execute_result"
    }
   ],
   "source": [
    "por[\"fatherjob\"].value_counts() #0 at home, 1 health, 2 other, 3 services, 4 teacher"
   ]
  },
  {
   "cell_type": "code",
   "execution_count": 304,
   "id": "fd459215",
   "metadata": {},
   "outputs": [
    {
     "data": {
      "text/plain": [
       "other       367\n",
       "services    181\n",
       "at_home      42\n",
       "teacher      36\n",
       "health       23\n",
       "Name: Fjob, dtype: int64"
      ]
     },
     "execution_count": 304,
     "metadata": {},
     "output_type": "execute_result"
    }
   ],
   "source": [
    "por[\"Fjob\"].value_counts()"
   ]
  },
  {
   "cell_type": "code",
   "execution_count": 305,
   "id": "2c3b4b89",
   "metadata": {},
   "outputs": [],
   "source": [
    "label3 = le.fit_transform(por['reason'])"
   ]
  },
  {
   "cell_type": "code",
   "execution_count": 306,
   "id": "6d5c4b7f",
   "metadata": {},
   "outputs": [],
   "source": [
    "por[\"schoolchoosing_reason\"] = label3"
   ]
  },
  {
   "cell_type": "code",
   "execution_count": 307,
   "id": "dbeb104e",
   "metadata": {},
   "outputs": [
    {
     "data": {
      "text/plain": [
       "0    285\n",
       "1    149\n",
       "3    143\n",
       "2     72\n",
       "Name: schoolchoosing_reason, dtype: int64"
      ]
     },
     "execution_count": 307,
     "metadata": {},
     "output_type": "execute_result"
    }
   ],
   "source": [
    "por[\"schoolchoosing_reason\"].value_counts() #0 course, 1 home, 2 other, 3 reputation"
   ]
  },
  {
   "cell_type": "code",
   "execution_count": 308,
   "id": "be32cd10",
   "metadata": {},
   "outputs": [
    {
     "data": {
      "text/plain": [
       "course        285\n",
       "home          149\n",
       "reputation    143\n",
       "other          72\n",
       "Name: reason, dtype: int64"
      ]
     },
     "execution_count": 308,
     "metadata": {},
     "output_type": "execute_result"
    }
   ],
   "source": [
    "por[\"reason\"].value_counts()"
   ]
  },
  {
   "cell_type": "code",
   "execution_count": 309,
   "id": "d39f5e0e",
   "metadata": {},
   "outputs": [
    {
     "data": {
      "text/plain": [
       "Dalc                     1.000000\n",
       "Walc                     0.616561\n",
       "gender                   0.282696\n",
       "goout                    0.245126\n",
       "absences                 0.172952\n",
       "age                      0.134768\n",
       "freetime                 0.109904\n",
       "failures                 0.105949\n",
       "traveltime               0.092824\n",
       "romantic                 0.062042\n",
       "fatherjob                0.055389\n",
       "motherjob                0.049576\n",
       "schoolchoosing_reason   -0.010735\n",
       "familysize              -0.060482\n",
       "famrel                  -0.075767\n",
       "nursery                 -0.078376\n",
       "higher                  -0.131663\n",
       "studytime               -0.137585\n",
       "G3                      -0.204719\n",
       "Name: Dalc, dtype: float64"
      ]
     },
     "execution_count": 309,
     "metadata": {},
     "output_type": "execute_result"
    }
   ],
   "source": [
    "new_corr3 = por.corr()\n",
    "new_corr3[\"Dalc\"].sort_values(ascending=False)"
   ]
  },
  {
   "cell_type": "code",
   "execution_count": 310,
   "id": "aff7f176",
   "metadata": {},
   "outputs": [],
   "source": [
    "#because our dataframe still consists of 22 columns which makes it challenging to visualize the correlation on\n",
    "#an sns heatmap, we would want to further drop correlation pairs which are less than +-0.10\n",
    "por = por.drop([\"traveltime\", \"fatherjob\", \"motherjob\", \"schoolchoosing_reason\", \"familysize\", \"nursery\",\\\n",
    "               \"Mjob\", \"Fjob\", \"reason\"], axis=1)"
   ]
  },
  {
   "cell_type": "code",
   "execution_count": 311,
   "id": "9f8a5423",
   "metadata": {},
   "outputs": [
    {
     "name": "stdout",
     "output_type": "stream",
     "text": [
      "<class 'pandas.core.frame.DataFrame'>\n",
      "RangeIndex: 649 entries, 0 to 648\n",
      "Data columns (total 14 columns):\n",
      " #   Column     Non-Null Count  Dtype \n",
      "---  ------     --------------  ----- \n",
      " 0   school     649 non-null    object\n",
      " 1   age        649 non-null    int64 \n",
      " 2   studytime  649 non-null    int64 \n",
      " 3   failures   649 non-null    int64 \n",
      " 4   higher     649 non-null    int64 \n",
      " 5   romantic   649 non-null    int64 \n",
      " 6   famrel     649 non-null    int64 \n",
      " 7   freetime   649 non-null    int64 \n",
      " 8   goout      649 non-null    int64 \n",
      " 9   Dalc       649 non-null    int64 \n",
      " 10  Walc       649 non-null    int64 \n",
      " 11  absences   649 non-null    int64 \n",
      " 12  G3         649 non-null    int64 \n",
      " 13  gender     649 non-null    int64 \n",
      "dtypes: int64(13), object(1)\n",
      "memory usage: 71.1+ KB\n"
     ]
    }
   ],
   "source": [
    "por.info()"
   ]
  },
  {
   "cell_type": "code",
   "execution_count": 312,
   "id": "7adb2cf5",
   "metadata": {},
   "outputs": [
    {
     "data": {
      "text/plain": [
       "<AxesSubplot:>"
      ]
     },
     "execution_count": 312,
     "metadata": {},
     "output_type": "execute_result"
    },
    {
     "data": {
      "image/png": "[encoded data removed]",
      "text/plain": [
       "<Figure size 720x576 with 2 Axes>"
      ]
     },
     "metadata": {
      "needs_background": "light"
     },
     "output_type": "display_data"
    }
   ],
   "source": [
    "plt.figure(figsize=(10,8))\n",
    "sns.heatmap(por.corr(), vmin=-1,vmax=1, annot=True)"
   ]
  },
  {
   "cell_type": "code",
   "execution_count": 313,
   "id": "87cb7d73",
   "metadata": {},
   "outputs": [
    {
     "data": {
      "text/plain": [
       "<AxesSubplot:>"
      ]
     },
     "execution_count": 313,
     "metadata": {},
     "output_type": "execute_result"
    },
    {
     "data": {
      "image/png": "[encoded data removed]",
      "text/plain": [
       "<Figure size 720x576 with 2 Axes>"
      ]
     },
     "metadata": {
      "needs_background": "light"
     },
     "output_type": "display_data"
    }
   ],
   "source": [
    "#plotting a heatmap to explore what factors contribute to a medium to high weekday alcohol consumption\n",
    "#3 <= Dalc <= 5\n",
    "plt.figure(figsize=(10,8))\n",
    "sns.heatmap(por[por[\"Dalc\"]>=3].corr(),vmin=-1,vmax=1, annot=True, cmap=\"YlGnBu\")"
   ]
  },
  {
   "cell_type": "code",
   "execution_count": 314,
   "id": "bbd4d0dc",
   "metadata": {},
   "outputs": [],
   "source": [
    "#from the heatmap, we can conclude that students who consumed moderate to high level of alcohol during the\n",
    "#weekday tend to involve in romantic relationship, older age wise, go out frequently\n",
    "#in contrast, their G3 final grades seem to be lower as the amount of weekday alcohol consumption increases,\n",
    "#and they show less interest in pursing higher education"
   ]
  },
  {
   "cell_type": "code",
   "execution_count": 315,
   "id": "037d9fd6",
   "metadata": {},
   "outputs": [
    {
     "data": {
      "text/plain": [
       "GP    423\n",
       "MS    226\n",
       "Name: school, dtype: int64"
      ]
     },
     "execution_count": 315,
     "metadata": {},
     "output_type": "execute_result"
    }
   ],
   "source": [
    "por[\"school\"].value_counts()"
   ]
  },
  {
   "cell_type": "code",
   "execution_count": 316,
   "id": "e4522884",
   "metadata": {},
   "outputs": [
    {
     "data": {
      "text/plain": [
       "<AxesSubplot:xlabel='G3', ylabel='Dalc'>"
      ]
     },
     "execution_count": 316,
     "metadata": {},
     "output_type": "execute_result"
    },
    {
     "data": {
      "image/png": "[encoded data removed]",
      "text/plain": [
       "<Figure size 432x288 with 1 Axes>"
      ]
     },
     "metadata": {
      "needs_background": "light"
     },
     "output_type": "display_data"
    }
   ],
   "source": [
    "sns.scatterplot(x=por[\"G3\"], y=por[\"Dalc\"], hue=por[\"school\"])"
   ]
  },
  {
   "cell_type": "code",
   "execution_count": 317,
   "id": "f7aecba1",
   "metadata": {},
   "outputs": [
    {
     "data": {
      "text/plain": [
       "<AxesSubplot:xlabel='age', ylabel='failures'>"
      ]
     },
     "execution_count": 317,
     "metadata": {},
     "output_type": "execute_result"
    },
    {
     "data": {
      "image/png": "[encoded data removed]",
      "text/plain": [
       "<Figure size 432x288 with 1 Axes>"
      ]
     },
     "metadata": {
      "needs_background": "light"
     },
     "output_type": "display_data"
    }
   ],
   "source": [
    "sns.scatterplot(x=por[\"age\"], y=por[\"failures\"], data=por)"
   ]
  },
  {
   "cell_type": "code",
   "execution_count": 318,
   "id": "0c5b0a69",
   "metadata": {},
   "outputs": [],
   "source": [
    "#scoring higher on the final grade seems to lead students drinking less alcohol during the week.\n",
    "#the heatmap shows that those consumed no alcohol Dalc = 1, are those scored closer to 20 which is the max point on the grading scale.\n",
    "#the heatmap points out that as academic performance worsens, students tend to drink more alcolhol during the weekday\n",
    "#the distribution of higher scores remains at the lower alcohol consumption level 1 and 2.\n",
    "#school GP has heavier weekday drinking culture, compared to school MS."
   ]
  },
  {
   "cell_type": "code",
   "execution_count": 319,
   "id": "770f4f5c",
   "metadata": {},
   "outputs": [],
   "source": [
    "from statsmodels.formula.api import ols"
   ]
  },
  {
   "cell_type": "code",
   "execution_count": 320,
   "id": "1f00dc3c",
   "metadata": {},
   "outputs": [
    {
     "name": "stdout",
     "output_type": "stream",
     "text": [
      "                            OLS Regression Results                            \n",
      "==============================================================================\n",
      "Dep. Variable:                   Dalc   R-squared:                       0.102\n",
      "Model:                            OLS   Adj. R-squared:                  0.097\n",
      "Method:                 Least Squares   F-statistic:                     18.34\n",
      "Date:                Sat, 30 Jul 2022   Prob (F-statistic):           2.79e-14\n",
      "Time:                        12:34:23   Log-Likelihood:                -834.67\n",
      "No. Observations:                 649   AIC:                             1679.\n",
      "Df Residuals:                     644   BIC:                             1702.\n",
      "Df Model:                           4                                         \n",
      "Covariance Type:            nonrobust                                         \n",
      "==============================================================================\n",
      "                 coef    std err          t      P>|t|      [0.025      0.975]\n",
      "------------------------------------------------------------------------------\n",
      "Intercept      1.7527      0.187      9.348      0.000       1.384       2.121\n",
      "higher        -0.1584      0.120     -1.325      0.186      -0.393       0.076\n",
      "goout          0.1753      0.030      5.932      0.000       0.117       0.233\n",
      "G3            -0.0427      0.012     -3.687      0.000      -0.065      -0.020\n",
      "studytime     -0.0820      0.043     -1.892      0.059      -0.167       0.003\n",
      "==============================================================================\n",
      "Omnibus:                      247.534   Durbin-Watson:                   1.960\n",
      "Prob(Omnibus):                  0.000   Jarque-Bera (JB):              776.576\n",
      "Skew:                           1.874   Prob(JB):                    2.34e-169\n",
      "Kurtosis:                       6.830   Cond. No.                         72.8\n",
      "==============================================================================\n",
      "\n",
      "Notes:\n",
      "[1] Standard Errors assume that the covariance matrix of the errors is correctly specified.\n"
     ]
    }
   ],
   "source": [
    "model = ols(\"Dalc ~ higher + goout + G3 + studytime\", data=por).fit()\n",
    "print(model.summary())"
   ]
  },
  {
   "cell_type": "code",
   "execution_count": 321,
   "id": "114ec1b5",
   "metadata": {},
   "outputs": [],
   "source": [
    "#the r-squared score is only 0.097 which means this model only represents 9.7% variability of the dataset,\n",
    "#so this result is not sufficient"
   ]
  },
  {
   "cell_type": "code",
   "execution_count": 322,
   "id": "3dc6eaa9",
   "metadata": {},
   "outputs": [
    {
     "name": "stdout",
     "output_type": "stream",
     "text": [
      "                            OLS Regression Results                            \n",
      "==============================================================================\n",
      "Dep. Variable:                   Dalc   R-squared:                       0.176\n",
      "Model:                            OLS   Adj. R-squared:                  0.166\n",
      "Method:                 Least Squares   F-statistic:                     17.09\n",
      "Date:                Sat, 30 Jul 2022   Prob (F-statistic):           3.89e-23\n",
      "Time:                        12:34:23   Log-Likelihood:                -806.84\n",
      "No. Observations:                 649   AIC:                             1632.\n",
      "Df Residuals:                     640   BIC:                             1672.\n",
      "Df Model:                           8                                         \n",
      "Covariance Type:            nonrobust                                         \n",
      "==============================================================================\n",
      "                 coef    std err          t      P>|t|      [0.025      0.975]\n",
      "------------------------------------------------------------------------------\n",
      "Intercept      1.3219      0.223      5.928      0.000       0.884       1.760\n",
      "higher        -0.1283      0.118     -1.089      0.276      -0.360       0.103\n",
      "goout          0.1655      0.030      5.466      0.000       0.106       0.225\n",
      "G3            -0.0363      0.012     -3.084      0.002      -0.059      -0.013\n",
      "studytime     -0.0188      0.042     -0.442      0.658      -0.102       0.065\n",
      "gender         0.4661      0.070      6.686      0.000       0.329       0.603\n",
      "absences       0.0260      0.007      3.557      0.000       0.012       0.040\n",
      "failures      -0.0023      0.062     -0.037      0.970      -0.125       0.120\n",
      "freetime      -0.0156      0.034     -0.456      0.648      -0.083       0.052\n",
      "==============================================================================\n",
      "Omnibus:                      229.584   Durbin-Watson:                   1.926\n",
      "Prob(Omnibus):                  0.000   Jarque-Bera (JB):              683.024\n",
      "Skew:                           1.748   Prob(JB):                    4.82e-149\n",
      "Kurtosis:                       6.611   Cond. No.                         95.7\n",
      "==============================================================================\n",
      "\n",
      "Notes:\n",
      "[1] Standard Errors assume that the covariance matrix of the errors is correctly specified.\n"
     ]
    }
   ],
   "source": [
    "model = ols(\"Dalc ~ higher + goout + G3 + studytime + gender + absences + failures + freetime\", data=por).fit()\n",
    "print(model.summary())"
   ]
  },
  {
   "cell_type": "code",
   "execution_count": 323,
   "id": "9ef6222a",
   "metadata": {},
   "outputs": [
    {
     "name": "stdout",
     "output_type": "stream",
     "text": [
      "                            OLS Regression Results                            \n",
      "==============================================================================\n",
      "Dep. Variable:                   Dalc   R-squared:                       0.186\n",
      "Model:                            OLS   Adj. R-squared:                  0.175\n",
      "Method:                 Least Squares   F-statistic:                     16.23\n",
      "Date:                Sat, 30 Jul 2022   Prob (F-statistic):           4.10e-24\n",
      "Time:                        12:34:23   Log-Likelihood:                -802.88\n",
      "No. Observations:                 649   AIC:                             1626.\n",
      "Df Residuals:                     639   BIC:                             1671.\n",
      "Df Model:                           9                                         \n",
      "Covariance Type:            nonrobust                                         \n",
      "==============================================================================\n",
      "                 coef    std err          t      P>|t|      [0.025      0.975]\n",
      "------------------------------------------------------------------------------\n",
      "Intercept      0.1476      0.531      0.278      0.781      -0.896       1.191\n",
      "higher        -0.0634      0.119     -0.531      0.595      -0.298       0.171\n",
      "G3            -0.0363      0.012     -3.093      0.002      -0.059      -0.013\n",
      "studytime     -0.0278      0.042     -0.656      0.512      -0.111       0.055\n",
      "gender         0.4844      0.069      6.982      0.000       0.348       0.621\n",
      "goout          0.1550      0.028      5.443      0.000       0.099       0.211\n",
      "absences       0.0238      0.007      3.265      0.001       0.009       0.038\n",
      "failures      -0.0437      0.064     -0.679      0.497      -0.170       0.083\n",
      "romantic       0.1052      0.070      1.494      0.136      -0.033       0.243\n",
      "age            0.0650      0.030      2.174      0.030       0.006       0.124\n",
      "==============================================================================\n",
      "Omnibus:                      218.788   Durbin-Watson:                   1.941\n",
      "Prob(Omnibus):                  0.000   Jarque-Bera (JB):              617.893\n",
      "Skew:                           1.684   Prob(JB):                    6.70e-135\n",
      "Kurtosis:                       6.392   Cond. No.                         345.\n",
      "==============================================================================\n",
      "\n",
      "Notes:\n",
      "[1] Standard Errors assume that the covariance matrix of the errors is correctly specified.\n"
     ]
    }
   ],
   "source": [
    "model = ols(\"Dalc ~ higher + G3 + studytime + gender + goout + absences + failures + romantic + age\", data=por).fit()\n",
    "print(model.summary())"
   ]
  },
  {
   "cell_type": "code",
   "execution_count": 324,
   "id": "c1365d0c",
   "metadata": {},
   "outputs": [
    {
     "name": "stdout",
     "output_type": "stream",
     "text": [
      "                            OLS Regression Results                            \n",
      "==============================================================================\n",
      "Dep. Variable:                   Dalc   R-squared:                       0.412\n",
      "Model:                            OLS   Adj. R-squared:                  0.403\n",
      "Method:                 Least Squares   F-statistic:                     44.78\n",
      "Date:                Sat, 30 Jul 2022   Prob (F-statistic):           2.79e-67\n",
      "Time:                        12:34:23   Log-Likelihood:                -697.12\n",
      "No. Observations:                 649   AIC:                             1416.\n",
      "Df Residuals:                     638   BIC:                             1465.\n",
      "Df Model:                          10                                         \n",
      "Covariance Type:            nonrobust                                         \n",
      "==============================================================================\n",
      "                 coef    std err          t      P>|t|      [0.025      0.975]\n",
      "------------------------------------------------------------------------------\n",
      "Intercept     -0.0526      0.452     -0.116      0.907      -0.940       0.835\n",
      "Walc           0.4025      0.026     15.679      0.000       0.352       0.453\n",
      "higher        -0.1008      0.101     -0.993      0.321      -0.300       0.099\n",
      "G3            -0.0222      0.010     -2.217      0.027      -0.042      -0.003\n",
      "studytime      0.0386      0.036      1.063      0.288      -0.033       0.110\n",
      "gender         0.2012      0.062      3.261      0.001       0.080       0.322\n",
      "goout          0.0030      0.026      0.113      0.910      -0.048       0.054\n",
      "absences       0.0127      0.006      2.040      0.042       0.000       0.025\n",
      "failures      -0.0228      0.055     -0.416      0.677      -0.130       0.085\n",
      "romantic       0.1130      0.060      1.888      0.059      -0.005       0.231\n",
      "age            0.0443      0.025      1.740      0.082      -0.006       0.094\n",
      "==============================================================================\n",
      "Omnibus:                      162.952   Durbin-Watson:                   1.864\n",
      "Prob(Omnibus):                  0.000   Jarque-Bera (JB):              515.497\n",
      "Skew:                           1.188   Prob(JB):                    1.15e-112\n",
      "Kurtosis:                       6.664   Cond. No.                         348.\n",
      "==============================================================================\n",
      "\n",
      "Notes:\n",
      "[1] Standard Errors assume that the covariance matrix of the errors is correctly specified.\n"
     ]
    }
   ],
   "source": [
    "model = ols(\"Dalc ~ Walc + higher + G3 + studytime + gender + goout + absences + failures + romantic + age\", data=por).fit()\n",
    "print(model.summary())"
   ]
  },
  {
   "cell_type": "code",
   "execution_count": 325,
   "id": "f287fd17",
   "metadata": {},
   "outputs": [],
   "source": [
    "#this model has an r-squared of 0.40 and its the maximum r-squared we can achieve to predict weekday alcohol consumption,\n",
    "#considering our dataset does not have very strong correlations between variables. \n",
    "#train test model\n",
    "from sklearn.model_selection import train_test_split\n",
    "from sklearn.metrics import mean_squared_error, r2_score\n",
    "from sklearn.linear_model import LinearRegression\n",
    "import scipy, scipy.stats\n",
    "import sklearn"
   ]
  },
  {
   "cell_type": "code",
   "execution_count": 326,
   "id": "acde9c58",
   "metadata": {},
   "outputs": [],
   "source": [
    "#assign variable for the model\n",
    "y = por[\"Dalc\"]\n",
    "x = por[[\"Walc\", \"higher\", \"G3\", \"studytime\", \"gender\", \"goout\", \"absences\", \"failures\", \"romantic\", \"age\"]]"
   ]
  },
  {
   "cell_type": "code",
   "execution_count": 327,
   "id": "d4edfa4a",
   "metadata": {},
   "outputs": [],
   "source": [
    "x_train, x_test, y_train, y_test = train_test_split(x,y,test_size = 0.30, random_state=123456)"
   ]
  },
  {
   "cell_type": "code",
   "execution_count": 328,
   "id": "48022d88",
   "metadata": {},
   "outputs": [
    {
     "data": {
      "text/html": [
       "<div>\n",
       "<style scoped>\n",
       "    .dataframe tbody tr th:only-of-type {\n",
       "        vertical-align: middle;\n",
       "    }\n",
       "\n",
       "    .dataframe tbody tr th {\n",
       "        vertical-align: top;\n",
       "    }\n",
       "\n",
       "    .dataframe thead th {\n",
       "        text-align: right;\n",
       "    }\n",
       "</style>\n",
       "<table border=\"1\" class=\"dataframe\">\n",
       "  <thead>\n",
       "    <tr style=\"text-align: right;\">\n",
       "      <th></th>\n",
       "      <th>Walc</th>\n",
       "      <th>higher</th>\n",
       "      <th>G3</th>\n",
       "      <th>studytime</th>\n",
       "      <th>gender</th>\n",
       "      <th>goout</th>\n",
       "      <th>absences</th>\n",
       "      <th>failures</th>\n",
       "      <th>romantic</th>\n",
       "      <th>age</th>\n",
       "    </tr>\n",
       "  </thead>\n",
       "  <tbody>\n",
       "    <tr>\n",
       "      <th>393</th>\n",
       "      <td>1</td>\n",
       "      <td>1</td>\n",
       "      <td>15</td>\n",
       "      <td>4</td>\n",
       "      <td>0</td>\n",
       "      <td>3</td>\n",
       "      <td>4</td>\n",
       "      <td>0</td>\n",
       "      <td>0</td>\n",
       "      <td>18</td>\n",
       "    </tr>\n",
       "    <tr>\n",
       "      <th>233</th>\n",
       "      <td>1</td>\n",
       "      <td>1</td>\n",
       "      <td>13</td>\n",
       "      <td>3</td>\n",
       "      <td>0</td>\n",
       "      <td>3</td>\n",
       "      <td>0</td>\n",
       "      <td>0</td>\n",
       "      <td>0</td>\n",
       "      <td>17</td>\n",
       "    </tr>\n",
       "    <tr>\n",
       "      <th>199</th>\n",
       "      <td>3</td>\n",
       "      <td>1</td>\n",
       "      <td>14</td>\n",
       "      <td>2</td>\n",
       "      <td>1</td>\n",
       "      <td>4</td>\n",
       "      <td>6</td>\n",
       "      <td>0</td>\n",
       "      <td>1</td>\n",
       "      <td>17</td>\n",
       "    </tr>\n",
       "    <tr>\n",
       "      <th>396</th>\n",
       "      <td>3</td>\n",
       "      <td>1</td>\n",
       "      <td>17</td>\n",
       "      <td>2</td>\n",
       "      <td>1</td>\n",
       "      <td>3</td>\n",
       "      <td>6</td>\n",
       "      <td>0</td>\n",
       "      <td>1</td>\n",
       "      <td>18</td>\n",
       "    </tr>\n",
       "    <tr>\n",
       "      <th>219</th>\n",
       "      <td>4</td>\n",
       "      <td>1</td>\n",
       "      <td>8</td>\n",
       "      <td>3</td>\n",
       "      <td>0</td>\n",
       "      <td>3</td>\n",
       "      <td>14</td>\n",
       "      <td>1</td>\n",
       "      <td>1</td>\n",
       "      <td>17</td>\n",
       "    </tr>\n",
       "    <tr>\n",
       "      <th>...</th>\n",
       "      <td>...</td>\n",
       "      <td>...</td>\n",
       "      <td>...</td>\n",
       "      <td>...</td>\n",
       "      <td>...</td>\n",
       "      <td>...</td>\n",
       "      <td>...</td>\n",
       "      <td>...</td>\n",
       "      <td>...</td>\n",
       "      <td>...</td>\n",
       "    </tr>\n",
       "    <tr>\n",
       "      <th>171</th>\n",
       "      <td>2</td>\n",
       "      <td>1</td>\n",
       "      <td>11</td>\n",
       "      <td>1</td>\n",
       "      <td>1</td>\n",
       "      <td>2</td>\n",
       "      <td>4</td>\n",
       "      <td>0</td>\n",
       "      <td>0</td>\n",
       "      <td>16</td>\n",
       "    </tr>\n",
       "    <tr>\n",
       "      <th>568</th>\n",
       "      <td>1</td>\n",
       "      <td>1</td>\n",
       "      <td>9</td>\n",
       "      <td>1</td>\n",
       "      <td>1</td>\n",
       "      <td>1</td>\n",
       "      <td>4</td>\n",
       "      <td>3</td>\n",
       "      <td>0</td>\n",
       "      <td>19</td>\n",
       "    </tr>\n",
       "    <tr>\n",
       "      <th>49</th>\n",
       "      <td>1</td>\n",
       "      <td>1</td>\n",
       "      <td>12</td>\n",
       "      <td>2</td>\n",
       "      <td>0</td>\n",
       "      <td>4</td>\n",
       "      <td>2</td>\n",
       "      <td>0</td>\n",
       "      <td>0</td>\n",
       "      <td>15</td>\n",
       "    </tr>\n",
       "    <tr>\n",
       "      <th>498</th>\n",
       "      <td>1</td>\n",
       "      <td>1</td>\n",
       "      <td>14</td>\n",
       "      <td>2</td>\n",
       "      <td>0</td>\n",
       "      <td>3</td>\n",
       "      <td>0</td>\n",
       "      <td>0</td>\n",
       "      <td>0</td>\n",
       "      <td>16</td>\n",
       "    </tr>\n",
       "    <tr>\n",
       "      <th>65</th>\n",
       "      <td>2</td>\n",
       "      <td>1</td>\n",
       "      <td>16</td>\n",
       "      <td>2</td>\n",
       "      <td>0</td>\n",
       "      <td>3</td>\n",
       "      <td>2</td>\n",
       "      <td>0</td>\n",
       "      <td>0</td>\n",
       "      <td>16</td>\n",
       "    </tr>\n",
       "  </tbody>\n",
       "</table>\n",
       "<p>454 rows × 10 columns</p>\n",
       "</div>"
      ],
      "text/plain": [
       "     Walc  higher  G3  studytime  gender  goout  absences  failures  romantic  \\\n",
       "393     1       1  15          4       0      3         4         0         0   \n",
       "233     1       1  13          3       0      3         0         0         0   \n",
       "199     3       1  14          2       1      4         6         0         1   \n",
       "396     3       1  17          2       1      3         6         0         1   \n",
       "219     4       1   8          3       0      3        14         1         1   \n",
       "..    ...     ...  ..        ...     ...    ...       ...       ...       ...   \n",
       "171     2       1  11          1       1      2         4         0         0   \n",
       "568     1       1   9          1       1      1         4         3         0   \n",
       "49      1       1  12          2       0      4         2         0         0   \n",
       "498     1       1  14          2       0      3         0         0         0   \n",
       "65      2       1  16          2       0      3         2         0         0   \n",
       "\n",
       "     age  \n",
       "393   18  \n",
       "233   17  \n",
       "199   17  \n",
       "396   18  \n",
       "219   17  \n",
       "..   ...  \n",
       "171   16  \n",
       "568   19  \n",
       "49    15  \n",
       "498   16  \n",
       "65    16  \n",
       "\n",
       "[454 rows x 10 columns]"
      ]
     },
     "execution_count": 328,
     "metadata": {},
     "output_type": "execute_result"
    }
   ],
   "source": [
    "x_train"
   ]
  },
  {
   "cell_type": "code",
   "execution_count": 329,
   "id": "280e18b4",
   "metadata": {
    "scrolled": true
   },
   "outputs": [
    {
     "data": {
      "text/html": [
       "<div>\n",
       "<style scoped>\n",
       "    .dataframe tbody tr th:only-of-type {\n",
       "        vertical-align: middle;\n",
       "    }\n",
       "\n",
       "    .dataframe tbody tr th {\n",
       "        vertical-align: top;\n",
       "    }\n",
       "\n",
       "    .dataframe thead th {\n",
       "        text-align: right;\n",
       "    }\n",
       "</style>\n",
       "<table border=\"1\" class=\"dataframe\">\n",
       "  <thead>\n",
       "    <tr style=\"text-align: right;\">\n",
       "      <th></th>\n",
       "      <th>Walc</th>\n",
       "      <th>higher</th>\n",
       "      <th>G3</th>\n",
       "      <th>studytime</th>\n",
       "      <th>gender</th>\n",
       "      <th>goout</th>\n",
       "      <th>absences</th>\n",
       "      <th>failures</th>\n",
       "      <th>romantic</th>\n",
       "      <th>age</th>\n",
       "    </tr>\n",
       "  </thead>\n",
       "  <tbody>\n",
       "    <tr>\n",
       "      <th>168</th>\n",
       "      <td>1</td>\n",
       "      <td>1</td>\n",
       "      <td>8</td>\n",
       "      <td>2</td>\n",
       "      <td>1</td>\n",
       "      <td>4</td>\n",
       "      <td>0</td>\n",
       "      <td>0</td>\n",
       "      <td>0</td>\n",
       "      <td>15</td>\n",
       "    </tr>\n",
       "    <tr>\n",
       "      <th>482</th>\n",
       "      <td>3</td>\n",
       "      <td>0</td>\n",
       "      <td>9</td>\n",
       "      <td>1</td>\n",
       "      <td>0</td>\n",
       "      <td>1</td>\n",
       "      <td>0</td>\n",
       "      <td>0</td>\n",
       "      <td>1</td>\n",
       "      <td>15</td>\n",
       "    </tr>\n",
       "    <tr>\n",
       "      <th>207</th>\n",
       "      <td>4</td>\n",
       "      <td>1</td>\n",
       "      <td>10</td>\n",
       "      <td>1</td>\n",
       "      <td>1</td>\n",
       "      <td>2</td>\n",
       "      <td>0</td>\n",
       "      <td>0</td>\n",
       "      <td>0</td>\n",
       "      <td>16</td>\n",
       "    </tr>\n",
       "    <tr>\n",
       "      <th>603</th>\n",
       "      <td>1</td>\n",
       "      <td>1</td>\n",
       "      <td>0</td>\n",
       "      <td>2</td>\n",
       "      <td>0</td>\n",
       "      <td>1</td>\n",
       "      <td>0</td>\n",
       "      <td>0</td>\n",
       "      <td>1</td>\n",
       "      <td>18</td>\n",
       "    </tr>\n",
       "    <tr>\n",
       "      <th>614</th>\n",
       "      <td>2</td>\n",
       "      <td>1</td>\n",
       "      <td>12</td>\n",
       "      <td>2</td>\n",
       "      <td>0</td>\n",
       "      <td>3</td>\n",
       "      <td>2</td>\n",
       "      <td>0</td>\n",
       "      <td>0</td>\n",
       "      <td>17</td>\n",
       "    </tr>\n",
       "    <tr>\n",
       "      <th>...</th>\n",
       "      <td>...</td>\n",
       "      <td>...</td>\n",
       "      <td>...</td>\n",
       "      <td>...</td>\n",
       "      <td>...</td>\n",
       "      <td>...</td>\n",
       "      <td>...</td>\n",
       "      <td>...</td>\n",
       "      <td>...</td>\n",
       "      <td>...</td>\n",
       "    </tr>\n",
       "    <tr>\n",
       "      <th>110</th>\n",
       "      <td>1</td>\n",
       "      <td>1</td>\n",
       "      <td>14</td>\n",
       "      <td>1</td>\n",
       "      <td>1</td>\n",
       "      <td>3</td>\n",
       "      <td>4</td>\n",
       "      <td>0</td>\n",
       "      <td>0</td>\n",
       "      <td>15</td>\n",
       "    </tr>\n",
       "    <tr>\n",
       "      <th>601</th>\n",
       "      <td>1</td>\n",
       "      <td>1</td>\n",
       "      <td>10</td>\n",
       "      <td>2</td>\n",
       "      <td>0</td>\n",
       "      <td>1</td>\n",
       "      <td>4</td>\n",
       "      <td>0</td>\n",
       "      <td>1</td>\n",
       "      <td>18</td>\n",
       "    </tr>\n",
       "    <tr>\n",
       "      <th>224</th>\n",
       "      <td>2</td>\n",
       "      <td>1</td>\n",
       "      <td>12</td>\n",
       "      <td>4</td>\n",
       "      <td>0</td>\n",
       "      <td>3</td>\n",
       "      <td>4</td>\n",
       "      <td>0</td>\n",
       "      <td>0</td>\n",
       "      <td>19</td>\n",
       "    </tr>\n",
       "    <tr>\n",
       "      <th>31</th>\n",
       "      <td>1</td>\n",
       "      <td>1</td>\n",
       "      <td>15</td>\n",
       "      <td>2</td>\n",
       "      <td>1</td>\n",
       "      <td>1</td>\n",
       "      <td>2</td>\n",
       "      <td>0</td>\n",
       "      <td>0</td>\n",
       "      <td>15</td>\n",
       "    </tr>\n",
       "    <tr>\n",
       "      <th>106</th>\n",
       "      <td>1</td>\n",
       "      <td>1</td>\n",
       "      <td>10</td>\n",
       "      <td>4</td>\n",
       "      <td>0</td>\n",
       "      <td>2</td>\n",
       "      <td>4</td>\n",
       "      <td>0</td>\n",
       "      <td>0</td>\n",
       "      <td>15</td>\n",
       "    </tr>\n",
       "  </tbody>\n",
       "</table>\n",
       "<p>195 rows × 10 columns</p>\n",
       "</div>"
      ],
      "text/plain": [
       "     Walc  higher  G3  studytime  gender  goout  absences  failures  romantic  \\\n",
       "168     1       1   8          2       1      4         0         0         0   \n",
       "482     3       0   9          1       0      1         0         0         1   \n",
       "207     4       1  10          1       1      2         0         0         0   \n",
       "603     1       1   0          2       0      1         0         0         1   \n",
       "614     2       1  12          2       0      3         2         0         0   \n",
       "..    ...     ...  ..        ...     ...    ...       ...       ...       ...   \n",
       "110     1       1  14          1       1      3         4         0         0   \n",
       "601     1       1  10          2       0      1         4         0         1   \n",
       "224     2       1  12          4       0      3         4         0         0   \n",
       "31      1       1  15          2       1      1         2         0         0   \n",
       "106     1       1  10          4       0      2         4         0         0   \n",
       "\n",
       "     age  \n",
       "168   15  \n",
       "482   15  \n",
       "207   16  \n",
       "603   18  \n",
       "614   17  \n",
       "..   ...  \n",
       "110   15  \n",
       "601   18  \n",
       "224   19  \n",
       "31    15  \n",
       "106   15  \n",
       "\n",
       "[195 rows x 10 columns]"
      ]
     },
     "execution_count": 329,
     "metadata": {},
     "output_type": "execute_result"
    }
   ],
   "source": [
    "x_test"
   ]
  },
  {
   "cell_type": "code",
   "execution_count": 330,
   "id": "1c8e7b36",
   "metadata": {},
   "outputs": [],
   "source": [
    "train_model = LinearRegression().fit(x_train, y_train)"
   ]
  },
  {
   "cell_type": "code",
   "execution_count": 331,
   "id": "dbe4e3d2",
   "metadata": {},
   "outputs": [
    {
     "data": {
      "text/plain": [
       "array([ 0.41958481, -0.03784169, -0.03533996,  0.08070535,  0.16687531,\n",
       "        0.00719207,  0.01379059, -0.02820454,  0.05609992,  0.05994293])"
      ]
     },
     "execution_count": 331,
     "metadata": {},
     "output_type": "execute_result"
    }
   ],
   "source": [
    "train_model.coef_"
   ]
  },
  {
   "cell_type": "code",
   "execution_count": 332,
   "id": "1528bc30",
   "metadata": {},
   "outputs": [
    {
     "data": {
      "text/plain": [
       "-0.2894947157581267"
      ]
     },
     "execution_count": 332,
     "metadata": {},
     "output_type": "execute_result"
    }
   ],
   "source": [
    "train_model.intercept_"
   ]
  },
  {
   "cell_type": "code",
   "execution_count": 333,
   "id": "b6db97f1",
   "metadata": {},
   "outputs": [],
   "source": [
    "predict = train_model.predict(x_test)"
   ]
  },
  {
   "cell_type": "code",
   "execution_count": 334,
   "id": "a55d5b77",
   "metadata": {},
   "outputs": [
    {
     "data": {
      "text/plain": [
       "array([1.06572701, 1.69434141, 2.21865495, 1.39592388, 1.31735165,\n",
       "       1.61931725, 1.89665605, 0.59101092, 1.85539082, 0.52823461,\n",
       "       0.65430291, 1.70792377, 1.31359683, 1.35658232, 0.82702391,\n",
       "       2.31896954, 1.18275072, 1.32109507, 1.23985052, 2.19257277,\n",
       "       2.46275819, 1.05768516, 0.74571264, 1.12704516, 0.94712513,\n",
       "       1.24056452, 1.40649982, 1.86632366, 1.90575733, 2.47237919,\n",
       "       1.21444434, 1.10289595, 0.8511232 , 0.72517868, 1.52546342,\n",
       "       0.90131109, 1.23496923, 0.88805842, 1.51595612, 2.33834742,\n",
       "       1.70413178, 0.99965203, 1.73920312, 0.8659443 , 1.17914915,\n",
       "       1.07767086, 1.11335907, 2.33374527, 2.40846062, 1.6297982 ,\n",
       "       2.66689151, 1.41000213, 0.901414  , 2.51408561, 2.19746542,\n",
       "       1.40541497, 1.89385048, 0.71779076, 0.86634266, 2.0723462 ,\n",
       "       2.06427474, 0.96587948, 2.38291764, 2.01668301, 1.14171324,\n",
       "       1.23812551, 2.62294822, 1.19825273, 0.92720055, 2.6894255 ,\n",
       "       0.95086351, 1.84408958, 0.91833341, 1.78456606, 1.01101314,\n",
       "       1.90020097, 0.79943035, 2.1478189 , 1.34587039, 1.23194936,\n",
       "       0.73328325, 1.39553784, 1.66797153, 2.06146147, 1.35973884,\n",
       "       1.80765804, 0.84547502, 2.02310214, 0.98349388, 1.58184596,\n",
       "       0.97375547, 0.89719769, 2.0548063 , 2.42884974, 1.50656328,\n",
       "       1.63810865, 2.49539497, 2.13078487, 1.27824409, 1.45613552,\n",
       "       0.96935927, 2.0569036 , 1.36042288, 1.86560966, 0.95358615,\n",
       "       2.2190993 , 1.6186303 , 2.06871485, 1.19160037, 2.27692282,\n",
       "       1.17613666, 2.35693172, 2.04455776, 2.50321116, 1.28521591,\n",
       "       0.90998304, 1.12029634, 1.34753774, 0.84538683, 1.38403795,\n",
       "       0.98622852, 1.0476454 , 1.12245324, 2.31469303, 1.39578789,\n",
       "       1.1305555 , 1.96746775, 1.45095026, 1.43003124, 1.15205779,\n",
       "       2.4873037 , 0.86698894, 0.63708786, 0.82927769, 2.53155316,\n",
       "       0.98221808, 1.11134223, 1.45172038, 1.06713858, 1.09192525,\n",
       "       2.45699763, 0.76054547, 0.88658939, 0.75313317, 0.87894795,\n",
       "       1.37412297, 1.85521587, 1.99773906, 2.4351928 , 1.43396367,\n",
       "       1.27097662, 1.65083004, 0.92207418, 0.90552562, 1.10089335,\n",
       "       1.7312236 , 0.84577609, 0.90887468, 1.81082059, 1.34517154,\n",
       "       2.61464447, 2.44433783, 1.86165305, 1.58080736, 1.84913876,\n",
       "       1.9139254 , 2.29698879, 0.81398615, 1.10352703, 1.35918723,\n",
       "       1.40259412, 2.23397715, 0.94076845, 1.35362395, 2.0055093 ,\n",
       "       0.84799419, 1.66502089, 3.05700294, 1.45786789, 0.93891593,\n",
       "       0.81213609, 2.46897026, 2.00301043, 2.66412082, 0.85139427,\n",
       "       1.55276628, 2.01221436, 1.0112958 , 2.18218158, 2.30409399,\n",
       "       0.82095221, 1.09768667, 1.62622941, 0.82435229, 1.03036072])"
      ]
     },
     "execution_count": 334,
     "metadata": {},
     "output_type": "execute_result"
    }
   ],
   "source": [
    "predict"
   ]
  },
  {
   "cell_type": "code",
   "execution_count": 335,
   "id": "cd3f0095",
   "metadata": {},
   "outputs": [],
   "source": [
    "residuals = predict - y_test"
   ]
  },
  {
   "cell_type": "code",
   "execution_count": 336,
   "id": "782786e6",
   "metadata": {},
   "outputs": [
    {
     "data": {
      "text/plain": [
       "168    0.065727\n",
       "482    0.694341\n",
       "207   -0.781345\n",
       "603    0.395924\n",
       "614    0.317352\n",
       "         ...   \n",
       "110   -0.179048\n",
       "601    0.097687\n",
       "224    0.626229\n",
       "31    -0.175648\n",
       "106    0.030361\n",
       "Name: Dalc, Length: 195, dtype: float64"
      ]
     },
     "execution_count": 336,
     "metadata": {},
     "output_type": "execute_result"
    }
   ],
   "source": [
    "residuals"
   ]
  },
  {
   "cell_type": "code",
   "execution_count": 337,
   "id": "97b83584",
   "metadata": {},
   "outputs": [],
   "source": [
    "#finding the average residual values with rmse\n",
    "test_rmse = (np.sqrt(mean_squared_error(y_test,predict)))"
   ]
  },
  {
   "cell_type": "code",
   "execution_count": 338,
   "id": "51500f95",
   "metadata": {},
   "outputs": [
    {
     "data": {
      "text/plain": [
       "0.6551004553383295"
      ]
     },
     "execution_count": 338,
     "metadata": {},
     "output_type": "execute_result"
    }
   ],
   "source": [
    "test_rmse"
   ]
  },
  {
   "cell_type": "code",
   "execution_count": 339,
   "id": "e97f5ebe",
   "metadata": {},
   "outputs": [
    {
     "data": {
      "text/plain": [
       "0.3324054996982858"
      ]
     },
     "execution_count": 339,
     "metadata": {},
     "output_type": "execute_result"
    }
   ],
   "source": [
    "r2_score(y_test, predict)"
   ]
  },
  {
   "cell_type": "code",
   "execution_count": 340,
   "id": "575ae718",
   "metadata": {},
   "outputs": [
    {
     "data": {
      "text/plain": [
       "<matplotlib.collections.LineCollection at 0x7fe331505d90>"
      ]
     },
     "execution_count": 340,
     "metadata": {},
     "output_type": "execute_result"
    },
    {
     "data": {
      "image/png": "[encoded data removed]",
      "text/plain": [
       "<Figure size 432x288 with 1 Axes>"
      ]
     },
     "metadata": {
      "needs_background": "light"
     },
     "output_type": "display_data"
    }
   ],
   "source": [
    "plt.scatter(predict, residuals)\n",
    "plt.xlabel(\"predicted_wkdayalc\")\n",
    "plt.ylabel(\"residuals\")\n",
    "plt.hlines(0, min(predict), max(predict), color=\"orange\")"
   ]
  },
  {
   "cell_type": "code",
   "execution_count": 341,
   "id": "a8e8e698",
   "metadata": {},
   "outputs": [],
   "source": [
    "#this model is somewhat biased because there seems to be a few more negative residuals than positive"
   ]
  },
  {
   "cell_type": "code",
   "execution_count": 342,
   "id": "18b751b4",
   "metadata": {},
   "outputs": [
    {
     "data": {
      "text/plain": [
       "((array([-2.69227775, -2.38188725, -2.20489564, -2.07811611, -1.97793611,\n",
       "         -1.89439075, -1.82229385, -1.75858714, -1.70130938, -1.64912438,\n",
       "         -1.60107908, -1.55646882, -1.51475721, -1.47552613, -1.43844301,\n",
       "         -1.40323879, -1.36969256, -1.33762061, -1.30686846, -1.27730486,\n",
       "         -1.24881735, -1.22130877, -1.19469457, -1.16890073, -1.14386198,\n",
       "         -1.11952055, -1.09582498, -1.07272922, -1.05019194, -1.02817584,\n",
       "         -1.00664715, -0.98557519, -0.96493201, -0.94469206, -0.92483189,\n",
       "         -0.90532996, -0.88616642, -0.86732291, -0.84878246, -0.83052928,\n",
       "         -0.81254871, -0.79482707, -0.77735162, -0.7601104 , -0.74309223,\n",
       "         -0.7262866 , -0.70968364, -0.69327404, -0.67704905, -0.66100036,\n",
       "         -0.64512014, -0.62940097, -0.61383581, -0.59841797, -0.58314109,\n",
       "         -0.56799911, -0.55298625, -0.53809702, -0.52332613, -0.50866855,\n",
       "         -0.49411946, -0.47967422, -0.46532838, -0.45107768, -0.43691801,\n",
       "         -0.42284541, -0.40885605, -0.39494625, -0.38111246, -0.36735122,\n",
       "         -0.35365921, -0.34003317, -0.32646999, -0.31296659, -0.29952003,\n",
       "         -0.28612741, -0.27278592, -0.2594928 , -0.24624539, -0.23304105,\n",
       "         -0.21987722, -0.20675138, -0.19366107, -0.18060386, -0.16757737,\n",
       "         -0.15457926, -0.14160721, -0.12865895, -0.11573223, -0.10282481,\n",
       "         -0.0899345 , -0.07705912, -0.06419651, -0.0513445 , -0.03850097,\n",
       "         -0.02566379, -0.01283084,  0.        ,  0.01283084,  0.02566379,\n",
       "          0.03850097,  0.0513445 ,  0.06419651,  0.07705912,  0.0899345 ,\n",
       "          0.10282481,  0.11573223,  0.12865895,  0.14160721,  0.15457926,\n",
       "          0.16757737,  0.18060386,  0.19366107,  0.20675138,  0.21987722,\n",
       "          0.23304105,  0.24624539,  0.2594928 ,  0.27278592,  0.28612741,\n",
       "          0.29952003,  0.31296659,  0.32646999,  0.34003317,  0.35365921,\n",
       "          0.36735122,  0.38111246,  0.39494625,  0.40885605,  0.42284541,\n",
       "          0.43691801,  0.45107768,  0.46532838,  0.47967422,  0.49411946,\n",
       "          0.50866855,  0.52332613,  0.53809702,  0.55298625,  0.56799911,\n",
       "          0.58314109,  0.59841797,  0.61383581,  0.62940097,  0.64512014,\n",
       "          0.66100036,  0.67704905,  0.69327404,  0.70968364,  0.7262866 ,\n",
       "          0.74309223,  0.7601104 ,  0.77735162,  0.79482707,  0.81254871,\n",
       "          0.83052928,  0.84878246,  0.86732291,  0.88616642,  0.90532996,\n",
       "          0.92483189,  0.94469206,  0.96493201,  0.98557519,  1.00664715,\n",
       "          1.02817584,  1.05019194,  1.07272922,  1.09582498,  1.11952055,\n",
       "          1.14386198,  1.16890073,  1.19469457,  1.22130877,  1.24881735,\n",
       "          1.27730486,  1.30686846,  1.33762061,  1.36969256,  1.40323879,\n",
       "          1.43844301,  1.47552613,  1.51475721,  1.55646882,  1.60107908,\n",
       "          1.64912438,  1.70130938,  1.75858714,  1.82229385,  1.89439075,\n",
       "          1.97793611,  2.07811611,  2.20489564,  2.38188725,  2.69227775]),\n",
       "  array([-2.37705178e+00, -2.09979903e+00, -1.94299706e+00, -1.78090070e+00,\n",
       "         -1.68530697e+00, -1.66165258e+00, -1.33310849e+00, -1.03253225e+00,\n",
       "         -9.96989574e-01, -9.35725260e-01, -7.81345045e-01, -7.61874488e-01,\n",
       "         -6.81030458e-01, -6.78904926e-01, -6.54828461e-01, -6.43417676e-01,\n",
       "         -6.43068278e-01, -6.17082363e-01, -5.97405878e-01, -5.93500180e-01,\n",
       "         -5.69968761e-01, -5.66036329e-01, -5.64807202e-01, -5.49049744e-01,\n",
       "         -5.27620815e-01, -5.04605034e-01, -4.85914395e-01, -4.84043878e-01,\n",
       "         -4.74536583e-01, -4.71765387e-01, -4.08989083e-01, -3.85355528e-01,\n",
       "         -3.81369697e-01, -3.70201800e-01, -3.62912142e-01, -3.49169956e-01,\n",
       "         -3.45697092e-01, -3.34979107e-01, -2.95868221e-01, -2.92076233e-01,\n",
       "         -2.82209243e-01, -2.74821318e-01, -2.66716746e-01, -2.54287362e-01,\n",
       "         -2.46866831e-01, -2.39454527e-01, -2.15433939e-01, -2.00569652e-01,\n",
       "         -1.87863910e-01, -1.86013847e-01, -1.79047792e-01, -1.75647713e-01,\n",
       "         -1.72976090e-01, -1.70722309e-01, -1.54613170e-01, -1.54524980e-01,\n",
       "         -1.54223906e-01, -1.52005810e-01, -1.48876802e-01, -1.48605732e-01,\n",
       "         -1.44784126e-01, -1.44609184e-01, -1.34055700e-01, -1.33657344e-01,\n",
       "         -1.33011057e-01, -1.21052054e-01, -1.13410612e-01, -1.11941576e-01,\n",
       "         -1.02802315e-01, -9.86889093e-02, -9.85860036e-02, -9.44743784e-02,\n",
       "         -9.11253201e-02, -9.00169563e-02, -8.16665912e-02, -7.79258155e-02,\n",
       "         -7.27994530e-02, -6.10840689e-02, -5.92315526e-02, -5.28748655e-02,\n",
       "         -4.91364896e-02, -4.64138464e-02, -3.41205239e-02, -3.06407318e-02,\n",
       "         -2.62445334e-02, -1.77819242e-02, -1.65061232e-02, -1.37714790e-02,\n",
       "         -3.47969223e-04,  1.10131420e-02,  1.12958015e-02,  1.22143610e-02,\n",
       "          1.66830126e-02,  3.03607210e-02,  4.76453968e-02,  5.48062977e-02,\n",
       "          5.69035971e-02,  5.76851621e-02,  6.14614713e-02,  6.57270084e-02,\n",
       "          6.71385755e-02,  7.23462046e-02,  7.76708573e-02,  9.19252516e-02,\n",
       "          9.76866715e-02,  1.00893345e-01,  1.02895954e-01,  1.03527034e-01,\n",
       "          1.11342233e-01,  1.13359066e-01,  1.20296338e-01,  1.22453236e-01,\n",
       "          1.27045159e-01,  1.30555498e-01,  1.41713244e-01,  1.52057786e-01,\n",
       "          1.76136658e-01,  1.79149155e-01,  1.82750720e-01,  1.91600372e-01,\n",
       "          1.98252733e-01,  2.14444336e-01,  2.31949360e-01,  2.34969233e-01,\n",
       "          2.39850519e-01,  2.40564519e-01,  2.70976620e-01,  2.76922816e-01,\n",
       "          2.78244086e-01,  2.85215914e-01,  2.96988789e-01,  3.13596834e-01,\n",
       "          3.17351652e-01,  3.45870393e-01,  3.47537742e-01,  3.53623947e-01,\n",
       "          3.59187230e-01,  3.59738838e-01,  3.60422879e-01,  3.74122971e-01,\n",
       "          3.84037949e-01,  3.95537836e-01,  3.95787889e-01,  3.95923884e-01,\n",
       "          4.05414970e-01,  4.08460623e-01,  4.10002131e-01,  4.51720377e-01,\n",
       "          4.56135519e-01,  4.56997632e-01,  4.57867890e-01,  4.62758191e-01,\n",
       "          4.68970264e-01,  4.87303697e-01,  5.06563276e-01,  5.31553162e-01,\n",
       "          5.52766280e-01,  5.80807364e-01,  5.81845956e-01,  6.19317254e-01,\n",
       "          6.26229407e-01,  6.38108650e-01,  6.67971529e-01,  6.94341412e-01,\n",
       "          7.31223604e-01,  7.39203120e-01,  8.07658038e-01,  8.10820593e-01,\n",
       "          8.44089578e-01,  8.49138760e-01,  8.61653048e-01,  8.65609658e-01,\n",
       "          8.66323658e-01,  8.93850480e-01,  8.96656052e-01,  9.05757327e-01,\n",
       "          9.13925396e-01,  9.97739056e-01,  1.00550930e+00,  1.02310214e+00,\n",
       "          1.04455776e+00,  1.06871485e+00,  1.13078487e+00,  1.14781890e+00,\n",
       "          1.18218158e+00,  1.19257277e+00,  1.19746542e+00,  1.23397715e+00,\n",
       "          1.30409399e+00,  1.33374527e+00,  1.42884974e+00,  1.44433783e+00,\n",
       "          1.50321116e+00,  1.66412082e+00,  1.68942550e+00])),\n",
       " (0.6416463199791375, 0.08697938294942338, 0.9769412117421247))"
      ]
     },
     "execution_count": 342,
     "metadata": {},
     "output_type": "execute_result"
    },
    {
     "data": {
      "image/png": "[encoded data removed]",
      "text/plain": [
       "<Figure size 432x288 with 1 Axes>"
      ]
     },
     "metadata": {
      "needs_background": "light"
     },
     "output_type": "display_data"
    }
   ],
   "source": [
    "#plotting a qq chart\n",
    "fig = plt.figure()\n",
    "ax = fig.add_subplot(111)\n",
    "scipy.stats.probplot(residuals, dist=\"norm\", plot=ax)"
   ]
  },
  {
   "cell_type": "code",
   "execution_count": 343,
   "id": "b2515dee",
   "metadata": {},
   "outputs": [],
   "source": [
    "#QQ plot shows that the dataset is not perfectly normal distributed, \n",
    "#most residuals are not fitted along the linear regression line. "
   ]
  },
  {
   "cell_type": "code",
   "execution_count": 344,
   "id": "c6b34fd9",
   "metadata": {},
   "outputs": [],
   "source": [
    "#sketching influence plot of the model\n",
    "import statsmodels.api as sm"
   ]
  },
  {
   "cell_type": "code",
   "execution_count": 345,
   "id": "8c23fc4b",
   "metadata": {
    "scrolled": false
   },
   "outputs": [
    {
     "data": {
      "image/png": "[encoded data removed]",
      "text/plain": [
       "<Figure size 864x432 with 1 Axes>"
      ]
     },
     "metadata": {
      "needs_background": "light"
     },
     "output_type": "display_data"
    }
   ],
   "source": [
    "fig, ax = plt.subplots(figsize=(12,6))\n",
    "fig = sm.graphics.influence_plot(model, ax=ax, criterion=\"cooks\")\n"
   ]
  },
  {
   "cell_type": "code",
   "execution_count": 346,
   "id": "293625c7",
   "metadata": {},
   "outputs": [],
   "source": [
    "#retry building linear regression model with visualizing correlation on boxplot\n",
    "pordata = pd.read_csv(\"student_por.csv\")"
   ]
  },
  {
   "cell_type": "code",
   "execution_count": 347,
   "id": "30ae95ae",
   "metadata": {},
   "outputs": [],
   "source": [
    "pordata = pordata.drop([\"G1\", \"G2\"], axis=1)"
   ]
  },
  {
   "cell_type": "code",
   "execution_count": 348,
   "id": "afba07b1",
   "metadata": {
    "scrolled": true
   },
   "outputs": [
    {
     "data": {
      "image/png": "[encoded data removed]",
      "text/plain": [
       "<Figure size 1080x1440 with 33 Axes>"
      ]
     },
     "metadata": {
      "needs_background": "light"
     },
     "output_type": "display_data"
    }
   ],
   "source": [
    "fig, ((ax1,ax2,ax3),(ax4,ax5,ax6),(ax7,ax8,ax9),(ax10,ax11,ax12)\\\n",
    "    ,(ax13,ax14,ax15), (ax16,ax17,ax18), (ax19,ax20,ax21),\\\n",
    "      (ax22,ax23,ax24), (ax25,ax26,ax27), (ax28,ax29,ax30),(ax31,ax32,ax33))= plt.subplots(11,3, figsize=(15,20))\n",
    "\n",
    "# Plot all the box plots, since all the variables are continuous and we want to compare them to the target\n",
    "\n",
    "for i in range(0,31):\n",
    "    sns.boxplot(x=pordata['Dalc'], y=pordata.iloc[:,i], ax=globals()[f\"ax{i+1}\"])"
   ]
  },
  {
   "cell_type": "code",
   "execution_count": 349,
   "id": "4c465f41",
   "metadata": {},
   "outputs": [
    {
     "name": "stdout",
     "output_type": "stream",
     "text": [
      "                            OLS Regression Results                            \n",
      "==============================================================================\n",
      "Dep. Variable:                   Dalc   R-squared:                       0.410\n",
      "Model:                            OLS   Adj. R-squared:                  0.395\n",
      "Method:                 Least Squares   F-statistic:                     27.41\n",
      "Date:                Sat, 30 Jul 2022   Prob (F-statistic):           6.24e-62\n",
      "Time:                        12:34:35   Log-Likelihood:                -698.63\n",
      "No. Observations:                 649   AIC:                             1431.\n",
      "Df Residuals:                     632   BIC:                             1507.\n",
      "Df Model:                          16                                         \n",
      "Covariance Type:            nonrobust                                         \n",
      "====================================================================================\n",
      "                       coef    std err          t      P>|t|      [0.025      0.975]\n",
      "------------------------------------------------------------------------------------\n",
      "Intercept           -0.2510      0.478     -0.525      0.600      -1.190       0.688\n",
      "Pstatus[T.T]         0.0334      0.087      0.383      0.702      -0.138       0.205\n",
      "Mjob[T.health]      -0.2729      0.138     -1.978      0.048      -0.544      -0.002\n",
      "Mjob[T.other]        0.0144      0.079      0.183      0.855      -0.140       0.169\n",
      "Mjob[T.services]     0.0333      0.096      0.347      0.729      -0.155       0.222\n",
      "Mjob[T.teacher]      0.0113      0.130      0.087      0.931      -0.244       0.267\n",
      "schoolsup[T.yes]     0.1082      0.095      1.139      0.255      -0.078       0.295\n",
      "age                  0.0550      0.025      2.161      0.031       0.005       0.105\n",
      "Medu                 0.0448      0.033      1.364      0.173      -0.020       0.109\n",
      "failures            -0.0050      0.055     -0.091      0.927      -0.114       0.103\n",
      "famrel              -0.0137      0.031     -0.446      0.656      -0.074       0.047\n",
      "freetime             0.0325      0.030      1.100      0.272      -0.025       0.090\n",
      "goout               -0.0110      0.028     -0.389      0.697      -0.067       0.045\n",
      "health              -0.0109      0.020     -0.541      0.589      -0.051       0.029\n",
      "absences             0.0114      0.006      1.791      0.074      -0.001       0.024\n",
      "Walc                 0.4269      0.025     16.999      0.000       0.378       0.476\n",
      "G3                  -0.0256      0.010     -2.563      0.011      -0.045      -0.006\n",
      "==============================================================================\n",
      "Omnibus:                      171.041   Durbin-Watson:                   1.862\n",
      "Prob(Omnibus):                  0.000   Jarque-Bera (JB):              559.819\n",
      "Skew:                           1.235   Prob(JB):                    2.73e-122\n",
      "Kurtosis:                       6.821   Cond. No.                         380.\n",
      "==============================================================================\n",
      "\n",
      "Notes:\n",
      "[1] Standard Errors assume that the covariance matrix of the errors is correctly specified.\n"
     ]
    }
   ],
   "source": [
    "modelnew = ols(\"Dalc ~ age + Pstatus + Medu + Mjob + failures + schoolsup + famrel + freetime + goout + health + absences + Walc +G3\", data=pordata).fit()\n",
    "print(modelnew.summary())"
   ]
  },
  {
   "cell_type": "code",
   "execution_count": 350,
   "id": "2d44f42c",
   "metadata": {},
   "outputs": [],
   "source": [
    "#even without transforming categorical variable, the model does not improve much compared to the last model we tried \n",
    "#with R2 = 0.4 \n",
    "#therefore just using the raw dataset, there seems to be weak correlation between variables to the weekday alc consumption. "
   ]
  },
  {
   "cell_type": "code",
   "execution_count": 351,
   "id": "5cb5c0fd",
   "metadata": {},
   "outputs": [
    {
     "data": {
      "text/plain": [
       "0      15\n",
       "1       1\n",
       "5       1\n",
       "6       3\n",
       "7      10\n",
       "8      35\n",
       "9      35\n",
       "10     97\n",
       "11    104\n",
       "12     72\n",
       "13     82\n",
       "14     63\n",
       "15     49\n",
       "16     36\n",
       "17     29\n",
       "18     15\n",
       "19      2\n",
       "Name: G3, dtype: int64"
      ]
     },
     "execution_count": 351,
     "metadata": {},
     "output_type": "execute_result"
    }
   ],
   "source": [
    "#Naive Bayes classifier, student passing score\n",
    "#Assume that a student need to score higher than 12 for the final grade G3 to be considered passed. \n",
    "#We can add a column with pass outcome and build a NB classification model.\n",
    "por[\"G3\"].value_counts().sort_index()"
   ]
  },
  {
   "cell_type": "code",
   "execution_count": 352,
   "id": "79768681",
   "metadata": {},
   "outputs": [
    {
     "data": {
      "text/plain": [
       "<AxesSubplot:xlabel='G3', ylabel='Count'>"
      ]
     },
     "execution_count": 352,
     "metadata": {},
     "output_type": "execute_result"
    },
    {
     "data": {
      "image/png": "[encoded data removed]",
      "text/plain": [
       "<Figure size 432x288 with 1 Axes>"
      ]
     },
     "metadata": {
      "needs_background": "light"
     },
     "output_type": "display_data"
    }
   ],
   "source": [
    "sns.histplot(data=por, x=\"G3\", binwidth=2.5)"
   ]
  },
  {
   "cell_type": "code",
   "execution_count": 353,
   "id": "7aa5cbdf",
   "metadata": {},
   "outputs": [],
   "source": [
    "passed = []\n",
    "for i in por[\"G3\"]:\n",
    "    if i < 12 : passed.append(0)\n",
    "    else: passed.append(1)"
   ]
  },
  {
   "cell_type": "code",
   "execution_count": 354,
   "id": "022a2050",
   "metadata": {},
   "outputs": [],
   "source": [
    "por[\"passed\"] = passed"
   ]
  },
  {
   "cell_type": "code",
   "execution_count": 355,
   "id": "301b7476",
   "metadata": {
    "scrolled": true
   },
   "outputs": [
    {
     "data": {
      "text/html": [
       "<div>\n",
       "<style scoped>\n",
       "    .dataframe tbody tr th:only-of-type {\n",
       "        vertical-align: middle;\n",
       "    }\n",
       "\n",
       "    .dataframe tbody tr th {\n",
       "        vertical-align: top;\n",
       "    }\n",
       "\n",
       "    .dataframe thead th {\n",
       "        text-align: right;\n",
       "    }\n",
       "</style>\n",
       "<table border=\"1\" class=\"dataframe\">\n",
       "  <thead>\n",
       "    <tr style=\"text-align: right;\">\n",
       "      <th></th>\n",
       "      <th>school</th>\n",
       "      <th>age</th>\n",
       "      <th>studytime</th>\n",
       "      <th>failures</th>\n",
       "      <th>higher</th>\n",
       "      <th>romantic</th>\n",
       "      <th>famrel</th>\n",
       "      <th>freetime</th>\n",
       "      <th>goout</th>\n",
       "      <th>Dalc</th>\n",
       "      <th>Walc</th>\n",
       "      <th>absences</th>\n",
       "      <th>G3</th>\n",
       "      <th>gender</th>\n",
       "      <th>passed</th>\n",
       "    </tr>\n",
       "  </thead>\n",
       "  <tbody>\n",
       "    <tr>\n",
       "      <th>0</th>\n",
       "      <td>GP</td>\n",
       "      <td>18</td>\n",
       "      <td>2</td>\n",
       "      <td>0</td>\n",
       "      <td>1</td>\n",
       "      <td>0</td>\n",
       "      <td>4</td>\n",
       "      <td>3</td>\n",
       "      <td>4</td>\n",
       "      <td>1</td>\n",
       "      <td>1</td>\n",
       "      <td>4</td>\n",
       "      <td>11</td>\n",
       "      <td>0</td>\n",
       "      <td>0</td>\n",
       "    </tr>\n",
       "    <tr>\n",
       "      <th>1</th>\n",
       "      <td>GP</td>\n",
       "      <td>17</td>\n",
       "      <td>2</td>\n",
       "      <td>0</td>\n",
       "      <td>1</td>\n",
       "      <td>0</td>\n",
       "      <td>5</td>\n",
       "      <td>3</td>\n",
       "      <td>3</td>\n",
       "      <td>1</td>\n",
       "      <td>1</td>\n",
       "      <td>2</td>\n",
       "      <td>11</td>\n",
       "      <td>0</td>\n",
       "      <td>0</td>\n",
       "    </tr>\n",
       "    <tr>\n",
       "      <th>2</th>\n",
       "      <td>GP</td>\n",
       "      <td>15</td>\n",
       "      <td>2</td>\n",
       "      <td>0</td>\n",
       "      <td>1</td>\n",
       "      <td>0</td>\n",
       "      <td>4</td>\n",
       "      <td>3</td>\n",
       "      <td>2</td>\n",
       "      <td>2</td>\n",
       "      <td>3</td>\n",
       "      <td>6</td>\n",
       "      <td>12</td>\n",
       "      <td>0</td>\n",
       "      <td>1</td>\n",
       "    </tr>\n",
       "    <tr>\n",
       "      <th>3</th>\n",
       "      <td>GP</td>\n",
       "      <td>15</td>\n",
       "      <td>3</td>\n",
       "      <td>0</td>\n",
       "      <td>1</td>\n",
       "      <td>1</td>\n",
       "      <td>3</td>\n",
       "      <td>2</td>\n",
       "      <td>2</td>\n",
       "      <td>1</td>\n",
       "      <td>1</td>\n",
       "      <td>0</td>\n",
       "      <td>14</td>\n",
       "      <td>0</td>\n",
       "      <td>1</td>\n",
       "    </tr>\n",
       "    <tr>\n",
       "      <th>4</th>\n",
       "      <td>GP</td>\n",
       "      <td>16</td>\n",
       "      <td>2</td>\n",
       "      <td>0</td>\n",
       "      <td>1</td>\n",
       "      <td>0</td>\n",
       "      <td>4</td>\n",
       "      <td>3</td>\n",
       "      <td>2</td>\n",
       "      <td>1</td>\n",
       "      <td>2</td>\n",
       "      <td>0</td>\n",
       "      <td>13</td>\n",
       "      <td>0</td>\n",
       "      <td>1</td>\n",
       "    </tr>\n",
       "  </tbody>\n",
       "</table>\n",
       "</div>"
      ],
      "text/plain": [
       "  school  age  studytime  failures  higher  romantic  famrel  freetime  goout  \\\n",
       "0     GP   18          2         0       1         0       4         3      4   \n",
       "1     GP   17          2         0       1         0       5         3      3   \n",
       "2     GP   15          2         0       1         0       4         3      2   \n",
       "3     GP   15          3         0       1         1       3         2      2   \n",
       "4     GP   16          2         0       1         0       4         3      2   \n",
       "\n",
       "   Dalc  Walc  absences  G3  gender  passed  \n",
       "0     1     1         4  11       0       0  \n",
       "1     1     1         2  11       0       0  \n",
       "2     2     3         6  12       0       1  \n",
       "3     1     1         0  14       0       1  \n",
       "4     1     2         0  13       0       1  "
      ]
     },
     "execution_count": 355,
     "metadata": {},
     "output_type": "execute_result"
    }
   ],
   "source": [
    "por.head()"
   ]
  },
  {
   "cell_type": "code",
   "execution_count": 356,
   "id": "d6da56cb",
   "metadata": {},
   "outputs": [
    {
     "data": {
      "text/plain": [
       "<AxesSubplot:xlabel='passed', ylabel='Count'>"
      ]
     },
     "execution_count": 356,
     "metadata": {},
     "output_type": "execute_result"
    },
    {
     "data": {
      "image/png": "[encoded data removed]",
      "text/plain": [
       "<Figure size 432x288 with 1 Axes>"
      ]
     },
     "metadata": {
      "needs_background": "light"
     },
     "output_type": "display_data"
    }
   ],
   "source": [
    "sns.histplot(data=por, x=\"passed\")"
   ]
  },
  {
   "cell_type": "code",
   "execution_count": 357,
   "id": "df8398aa",
   "metadata": {},
   "outputs": [
    {
     "data": {
      "text/html": [
       "<div>\n",
       "<style scoped>\n",
       "    .dataframe tbody tr th:only-of-type {\n",
       "        vertical-align: middle;\n",
       "    }\n",
       "\n",
       "    .dataframe tbody tr th {\n",
       "        vertical-align: top;\n",
       "    }\n",
       "\n",
       "    .dataframe thead th {\n",
       "        text-align: right;\n",
       "    }\n",
       "</style>\n",
       "<table border=\"1\" class=\"dataframe\">\n",
       "  <thead>\n",
       "    <tr style=\"text-align: right;\">\n",
       "      <th></th>\n",
       "      <th>school</th>\n",
       "      <th>age</th>\n",
       "      <th>studytime</th>\n",
       "      <th>failures</th>\n",
       "      <th>higher</th>\n",
       "      <th>romantic</th>\n",
       "      <th>famrel</th>\n",
       "      <th>freetime</th>\n",
       "      <th>goout</th>\n",
       "      <th>Dalc</th>\n",
       "      <th>Walc</th>\n",
       "      <th>absences</th>\n",
       "      <th>G3</th>\n",
       "      <th>gender</th>\n",
       "    </tr>\n",
       "    <tr>\n",
       "      <th>passed</th>\n",
       "      <th></th>\n",
       "      <th></th>\n",
       "      <th></th>\n",
       "      <th></th>\n",
       "      <th></th>\n",
       "      <th></th>\n",
       "      <th></th>\n",
       "      <th></th>\n",
       "      <th></th>\n",
       "      <th></th>\n",
       "      <th></th>\n",
       "      <th></th>\n",
       "      <th></th>\n",
       "      <th></th>\n",
       "    </tr>\n",
       "  </thead>\n",
       "  <tbody>\n",
       "    <tr>\n",
       "      <th>0</th>\n",
       "      <td>301</td>\n",
       "      <td>301</td>\n",
       "      <td>301</td>\n",
       "      <td>301</td>\n",
       "      <td>301</td>\n",
       "      <td>301</td>\n",
       "      <td>301</td>\n",
       "      <td>301</td>\n",
       "      <td>301</td>\n",
       "      <td>301</td>\n",
       "      <td>301</td>\n",
       "      <td>301</td>\n",
       "      <td>301</td>\n",
       "      <td>301</td>\n",
       "    </tr>\n",
       "    <tr>\n",
       "      <th>1</th>\n",
       "      <td>348</td>\n",
       "      <td>348</td>\n",
       "      <td>348</td>\n",
       "      <td>348</td>\n",
       "      <td>348</td>\n",
       "      <td>348</td>\n",
       "      <td>348</td>\n",
       "      <td>348</td>\n",
       "      <td>348</td>\n",
       "      <td>348</td>\n",
       "      <td>348</td>\n",
       "      <td>348</td>\n",
       "      <td>348</td>\n",
       "      <td>348</td>\n",
       "    </tr>\n",
       "  </tbody>\n",
       "</table>\n",
       "</div>"
      ],
      "text/plain": [
       "        school  age  studytime  failures  higher  romantic  famrel  freetime  \\\n",
       "passed                                                                         \n",
       "0          301  301        301       301     301       301     301       301   \n",
       "1          348  348        348       348     348       348     348       348   \n",
       "\n",
       "        goout  Dalc  Walc  absences   G3  gender  \n",
       "passed                                            \n",
       "0         301   301   301       301  301     301  \n",
       "1         348   348   348       348  348     348  "
      ]
     },
     "execution_count": 357,
     "metadata": {},
     "output_type": "execute_result"
    }
   ],
   "source": [
    "por.groupby(\"passed\").count()"
   ]
  },
  {
   "cell_type": "code",
   "execution_count": 358,
   "id": "a9f0554a",
   "metadata": {},
   "outputs": [],
   "source": [
    "from sklearn.naive_bayes import GaussianNB as gnb\n",
    "from sklearn.model_selection import train_test_split\n",
    "from sklearn.model_selection import cross_val_score\n",
    "from sklearn.metrics import accuracy_score, confusion_matrix"
   ]
  },
  {
   "cell_type": "code",
   "execution_count": 359,
   "id": "298e60cc",
   "metadata": {},
   "outputs": [],
   "source": [
    "train, test = train_test_split(por, test_size = 0.3, random_state = 123456)"
   ]
  },
  {
   "cell_type": "code",
   "execution_count": 360,
   "id": "ec817cbd",
   "metadata": {},
   "outputs": [
    {
     "data": {
      "text/html": [
       "<div>\n",
       "<style scoped>\n",
       "    .dataframe tbody tr th:only-of-type {\n",
       "        vertical-align: middle;\n",
       "    }\n",
       "\n",
       "    .dataframe tbody tr th {\n",
       "        vertical-align: top;\n",
       "    }\n",
       "\n",
       "    .dataframe thead th {\n",
       "        text-align: right;\n",
       "    }\n",
       "</style>\n",
       "<table border=\"1\" class=\"dataframe\">\n",
       "  <thead>\n",
       "    <tr style=\"text-align: right;\">\n",
       "      <th></th>\n",
       "      <th>school</th>\n",
       "      <th>age</th>\n",
       "      <th>studytime</th>\n",
       "      <th>failures</th>\n",
       "      <th>higher</th>\n",
       "      <th>romantic</th>\n",
       "      <th>famrel</th>\n",
       "      <th>freetime</th>\n",
       "      <th>goout</th>\n",
       "      <th>Dalc</th>\n",
       "      <th>Walc</th>\n",
       "      <th>absences</th>\n",
       "      <th>G3</th>\n",
       "      <th>gender</th>\n",
       "    </tr>\n",
       "    <tr>\n",
       "      <th>passed</th>\n",
       "      <th></th>\n",
       "      <th></th>\n",
       "      <th></th>\n",
       "      <th></th>\n",
       "      <th></th>\n",
       "      <th></th>\n",
       "      <th></th>\n",
       "      <th></th>\n",
       "      <th></th>\n",
       "      <th></th>\n",
       "      <th></th>\n",
       "      <th></th>\n",
       "      <th></th>\n",
       "      <th></th>\n",
       "    </tr>\n",
       "  </thead>\n",
       "  <tbody>\n",
       "    <tr>\n",
       "      <th>0</th>\n",
       "      <td>207</td>\n",
       "      <td>207</td>\n",
       "      <td>207</td>\n",
       "      <td>207</td>\n",
       "      <td>207</td>\n",
       "      <td>207</td>\n",
       "      <td>207</td>\n",
       "      <td>207</td>\n",
       "      <td>207</td>\n",
       "      <td>207</td>\n",
       "      <td>207</td>\n",
       "      <td>207</td>\n",
       "      <td>207</td>\n",
       "      <td>207</td>\n",
       "    </tr>\n",
       "    <tr>\n",
       "      <th>1</th>\n",
       "      <td>247</td>\n",
       "      <td>247</td>\n",
       "      <td>247</td>\n",
       "      <td>247</td>\n",
       "      <td>247</td>\n",
       "      <td>247</td>\n",
       "      <td>247</td>\n",
       "      <td>247</td>\n",
       "      <td>247</td>\n",
       "      <td>247</td>\n",
       "      <td>247</td>\n",
       "      <td>247</td>\n",
       "      <td>247</td>\n",
       "      <td>247</td>\n",
       "    </tr>\n",
       "  </tbody>\n",
       "</table>\n",
       "</div>"
      ],
      "text/plain": [
       "        school  age  studytime  failures  higher  romantic  famrel  freetime  \\\n",
       "passed                                                                         \n",
       "0          207  207        207       207     207       207     207       207   \n",
       "1          247  247        247       247     247       247     247       247   \n",
       "\n",
       "        goout  Dalc  Walc  absences   G3  gender  \n",
       "passed                                            \n",
       "0         207   207   207       207  207     207  \n",
       "1         247   247   247       247  247     247  "
      ]
     },
     "execution_count": 360,
     "metadata": {},
     "output_type": "execute_result"
    }
   ],
   "source": [
    "train.groupby(\"passed\").count()"
   ]
  },
  {
   "cell_type": "code",
   "execution_count": 361,
   "id": "0f56dbf4",
   "metadata": {},
   "outputs": [
    {
     "data": {
      "text/html": [
       "<div>\n",
       "<style scoped>\n",
       "    .dataframe tbody tr th:only-of-type {\n",
       "        vertical-align: middle;\n",
       "    }\n",
       "\n",
       "    .dataframe tbody tr th {\n",
       "        vertical-align: top;\n",
       "    }\n",
       "\n",
       "    .dataframe thead th {\n",
       "        text-align: right;\n",
       "    }\n",
       "</style>\n",
       "<table border=\"1\" class=\"dataframe\">\n",
       "  <thead>\n",
       "    <tr style=\"text-align: right;\">\n",
       "      <th></th>\n",
       "      <th>school</th>\n",
       "      <th>age</th>\n",
       "      <th>studytime</th>\n",
       "      <th>failures</th>\n",
       "      <th>higher</th>\n",
       "      <th>romantic</th>\n",
       "      <th>famrel</th>\n",
       "      <th>freetime</th>\n",
       "      <th>goout</th>\n",
       "      <th>Dalc</th>\n",
       "      <th>Walc</th>\n",
       "      <th>absences</th>\n",
       "      <th>G3</th>\n",
       "      <th>gender</th>\n",
       "    </tr>\n",
       "    <tr>\n",
       "      <th>passed</th>\n",
       "      <th></th>\n",
       "      <th></th>\n",
       "      <th></th>\n",
       "      <th></th>\n",
       "      <th></th>\n",
       "      <th></th>\n",
       "      <th></th>\n",
       "      <th></th>\n",
       "      <th></th>\n",
       "      <th></th>\n",
       "      <th></th>\n",
       "      <th></th>\n",
       "      <th></th>\n",
       "      <th></th>\n",
       "    </tr>\n",
       "  </thead>\n",
       "  <tbody>\n",
       "    <tr>\n",
       "      <th>0</th>\n",
       "      <td>94</td>\n",
       "      <td>94</td>\n",
       "      <td>94</td>\n",
       "      <td>94</td>\n",
       "      <td>94</td>\n",
       "      <td>94</td>\n",
       "      <td>94</td>\n",
       "      <td>94</td>\n",
       "      <td>94</td>\n",
       "      <td>94</td>\n",
       "      <td>94</td>\n",
       "      <td>94</td>\n",
       "      <td>94</td>\n",
       "      <td>94</td>\n",
       "    </tr>\n",
       "    <tr>\n",
       "      <th>1</th>\n",
       "      <td>101</td>\n",
       "      <td>101</td>\n",
       "      <td>101</td>\n",
       "      <td>101</td>\n",
       "      <td>101</td>\n",
       "      <td>101</td>\n",
       "      <td>101</td>\n",
       "      <td>101</td>\n",
       "      <td>101</td>\n",
       "      <td>101</td>\n",
       "      <td>101</td>\n",
       "      <td>101</td>\n",
       "      <td>101</td>\n",
       "      <td>101</td>\n",
       "    </tr>\n",
       "  </tbody>\n",
       "</table>\n",
       "</div>"
      ],
      "text/plain": [
       "        school  age  studytime  failures  higher  romantic  famrel  freetime  \\\n",
       "passed                                                                         \n",
       "0           94   94         94        94      94        94      94        94   \n",
       "1          101  101        101       101     101       101     101       101   \n",
       "\n",
       "        goout  Dalc  Walc  absences   G3  gender  \n",
       "passed                                            \n",
       "0          94    94    94        94   94      94  \n",
       "1         101   101   101       101  101     101  "
      ]
     },
     "execution_count": 361,
     "metadata": {},
     "output_type": "execute_result"
    }
   ],
   "source": [
    "test.groupby(\"passed\").count()"
   ]
  },
  {
   "cell_type": "code",
   "execution_count": 362,
   "id": "206b67f6",
   "metadata": {
    "scrolled": true
   },
   "outputs": [
    {
     "data": {
      "text/plain": [
       "Index(['school', 'age', 'studytime', 'failures', 'higher', 'romantic',\n",
       "       'famrel', 'freetime', 'goout', 'Dalc', 'Walc', 'absences', 'G3',\n",
       "       'gender', 'passed'],\n",
       "      dtype='object')"
      ]
     },
     "execution_count": 362,
     "metadata": {},
     "output_type": "execute_result"
    }
   ],
   "source": [
    "train.columns"
   ]
  },
  {
   "cell_type": "code",
   "execution_count": 363,
   "id": "5de3c117",
   "metadata": {},
   "outputs": [
    {
     "data": {
      "text/plain": [
       "(649, 15)"
      ]
     },
     "execution_count": 363,
     "metadata": {},
     "output_type": "execute_result"
    }
   ],
   "source": [
    "por.shape"
   ]
  },
  {
   "cell_type": "code",
   "execution_count": 364,
   "id": "0a5074dc",
   "metadata": {
    "scrolled": true
   },
   "outputs": [
    {
     "data": {
      "image/png": "[encoded data removed]",
      "text/plain": [
       "<Figure size 720x1440 with 15 Axes>"
      ]
     },
     "metadata": {
      "needs_background": "light"
     },
     "output_type": "display_data"
    }
   ],
   "source": [
    "# Create a big figure with many subplots first\n",
    "\n",
    "fig, ((ax1,ax2,ax3),(ax4,ax5,ax6),(ax7,ax8,ax9),(ax10,ax11,ax12)\\\n",
    "    ,(ax13,ax14,ax15)) = plt.subplots(5,3, figsize=(10,20))\n",
    "\n",
    "# Plot all the box plots, since all the variables are continuous and we want to compare them to the target\n",
    "\n",
    "for i in range(0,15):\n",
    "    sns.boxplot(x=por['passed'], y=por.iloc[:,i], ax=globals()[f\"ax{i+1}\"])"
   ]
  },
  {
   "cell_type": "code",
   "execution_count": 365,
   "id": "c13b2d49",
   "metadata": {},
   "outputs": [],
   "source": [
    "features =[\"age\", \"studytime\", \"failures\", \"famrel\", \"freetime\", \"Dalc\", \"Walc\", \"absences\"]\n",
    "target = \"passed\"\n",
    "NBClassifier = gnb()"
   ]
  },
  {
   "cell_type": "code",
   "execution_count": 366,
   "id": "da54cccb",
   "metadata": {
    "scrolled": true
   },
   "outputs": [
    {
     "data": {
      "text/html": [
       "<style>#sk-container-id-6 {color: black;background-color: white;}#sk-container-id-6 pre{padding: 0;}#sk-container-id-6 div.sk-toggleable {background-color: white;}#sk-container-id-6 label.sk-toggleable__label {cursor: pointer;display: block;width: 100%;margin-bottom: 0;padding: 0.3em;box-sizing: border-box;text-align: center;}#sk-container-id-6 label.sk-toggleable__label-arrow:before {content: \"▸\";float: left;margin-right: 0.25em;color: #696969;}#sk-container-id-6 label.sk-toggleable__label-arrow:hover:before {color: black;}#sk-container-id-6 div.sk-estimator:hover label.sk-toggleable__label-arrow:before {color: black;}#sk-container-id-6 div.sk-toggleable__content {max-height: 0;max-width: 0;overflow: hidden;text-align: left;background-color: #f0f8ff;}#sk-container-id-6 div.sk-toggleable__content pre {margin: 0.2em;color: black;border-radius: 0.25em;background-color: #f0f8ff;}#sk-container-id-6 input.sk-toggleable__control:checked~div.sk-toggleable__content {max-height: 200px;max-width: 100%;overflow: auto;}#sk-container-id-6 input.sk-toggleable__control:checked~label.sk-toggleable__label-arrow:before {content: \"▾\";}#sk-container-id-6 div.sk-estimator input.sk-toggleable__control:checked~label.sk-toggleable__label {background-color: #d4ebff;}#sk-container-id-6 div.sk-label input.sk-toggleable__control:checked~label.sk-toggleable__label {background-color: #d4ebff;}#sk-container-id-6 input.sk-hidden--visually {border: 0;clip: rect(1px 1px 1px 1px);clip: rect(1px, 1px, 1px, 1px);height: 1px;margin: -1px;overflow: hidden;padding: 0;position: absolute;width: 1px;}#sk-container-id-6 div.sk-estimator {font-family: monospace;background-color: #f0f8ff;border: 1px dotted black;border-radius: 0.25em;box-sizing: border-box;margin-bottom: 0.5em;}#sk-container-id-6 div.sk-estimator:hover {background-color: #d4ebff;}#sk-container-id-6 div.sk-parallel-item::after {content: \"\";width: 100%;border-bottom: 1px solid gray;flex-grow: 1;}#sk-container-id-6 div.sk-label:hover label.sk-toggleable__label {background-color: #d4ebff;}#sk-container-id-6 div.sk-serial::before {content: \"\";position: absolute;border-left: 1px solid gray;box-sizing: border-box;top: 0;bottom: 0;left: 50%;z-index: 0;}#sk-container-id-6 div.sk-serial {display: flex;flex-direction: column;align-items: center;background-color: white;padding-right: 0.2em;padding-left: 0.2em;position: relative;}#sk-container-id-6 div.sk-item {position: relative;z-index: 1;}#sk-container-id-6 div.sk-parallel {display: flex;align-items: stretch;justify-content: center;background-color: white;position: relative;}#sk-container-id-6 div.sk-item::before, #sk-container-id-6 div.sk-parallel-item::before {content: \"\";position: absolute;border-left: 1px solid gray;box-sizing: border-box;top: 0;bottom: 0;left: 50%;z-index: -1;}#sk-container-id-6 div.sk-parallel-item {display: flex;flex-direction: column;z-index: 1;position: relative;background-color: white;}#sk-container-id-6 div.sk-parallel-item:first-child::after {align-self: flex-end;width: 50%;}#sk-container-id-6 div.sk-parallel-item:last-child::after {align-self: flex-start;width: 50%;}#sk-container-id-6 div.sk-parallel-item:only-child::after {width: 0;}#sk-container-id-6 div.sk-dashed-wrapped {border: 1px dashed gray;margin: 0 0.4em 0.5em 0.4em;box-sizing: border-box;padding-bottom: 0.4em;background-color: white;}#sk-container-id-6 div.sk-label label {font-family: monospace;font-weight: bold;display: inline-block;line-height: 1.2em;}#sk-container-id-6 div.sk-label-container {text-align: center;}#sk-container-id-6 div.sk-container {/* jupyter's `normalize.less` sets `[hidden] { display: none; }` but bootstrap.min.css set `[hidden] { display: none !important; }` so we also need the `!important` here to be able to override the default hidden behavior on the sphinx rendered scikit-learn.org. See: https://github.com/scikit-learn/scikit-learn/issues/21755 */display: inline-block !important;position: relative;}#sk-container-id-6 div.sk-text-repr-fallback {display: none;}</style><div id=\"sk-container-id-6\" class=\"sk-top-container\"><div class=\"sk-text-repr-fallback\"><pre>GaussianNB()</pre><b>In a Jupyter environment, please rerun this cell to show the HTML representation or trust the notebook. <br />On GitHub, the HTML representation is unable to render, please try loading this page with nbviewer.org.</b></div><div class=\"sk-container\" hidden><div class=\"sk-item\"><div class=\"sk-estimator sk-toggleable\"><input class=\"sk-toggleable__control sk-hidden--visually\" id=\"sk-estimator-id-6\" type=\"checkbox\" checked><label for=\"sk-estimator-id-6\" class=\"sk-toggleable__label sk-toggleable__label-arrow\">GaussianNB</label><div class=\"sk-toggleable__content\"><pre>GaussianNB()</pre></div></div></div></div></div>"
      ],
      "text/plain": [
       "GaussianNB()"
      ]
     },
     "execution_count": 366,
     "metadata": {},
     "output_type": "execute_result"
    }
   ],
   "source": [
    "NBClassifier"
   ]
  },
  {
   "cell_type": "code",
   "execution_count": 367,
   "id": "768831d1",
   "metadata": {},
   "outputs": [],
   "source": [
    "crossval_score= cross_val_score(NBClassifier, train[features], train[target], cv=5)"
   ]
  },
  {
   "cell_type": "code",
   "execution_count": 368,
   "id": "dbcf2bf8",
   "metadata": {},
   "outputs": [
    {
     "data": {
      "text/plain": [
       "0.6872527472527473"
      ]
     },
     "execution_count": 368,
     "metadata": {},
     "output_type": "execute_result"
    }
   ],
   "source": [
    "crossval_score.mean()"
   ]
  },
  {
   "cell_type": "code",
   "execution_count": 369,
   "id": "480773ef",
   "metadata": {},
   "outputs": [
    {
     "data": {
      "text/plain": [
       "0.0005900736626011353"
      ]
     },
     "execution_count": 369,
     "metadata": {},
     "output_type": "execute_result"
    }
   ],
   "source": [
    "crossval_score.var()"
   ]
  },
  {
   "cell_type": "code",
   "execution_count": 370,
   "id": "e5e25cb2",
   "metadata": {},
   "outputs": [],
   "source": [
    "NBmodel = gnb().fit(train[features], train[target])"
   ]
  },
  {
   "cell_type": "code",
   "execution_count": 371,
   "id": "353043be",
   "metadata": {},
   "outputs": [],
   "source": [
    "testx = test[features]\n",
    "testy = test[target]"
   ]
  },
  {
   "cell_type": "code",
   "execution_count": 372,
   "id": "42578488",
   "metadata": {},
   "outputs": [],
   "source": [
    "predicted_result = NBmodel.predict(testx[features])"
   ]
  },
  {
   "cell_type": "code",
   "execution_count": 373,
   "id": "3b882b76",
   "metadata": {},
   "outputs": [
    {
     "data": {
      "text/plain": [
       "0.7025641025641025"
      ]
     },
     "execution_count": 373,
     "metadata": {},
     "output_type": "execute_result"
    }
   ],
   "source": [
    "accuracy_score(testy, predicted_result)"
   ]
  },
  {
   "cell_type": "code",
   "execution_count": 374,
   "id": "001486c0",
   "metadata": {},
   "outputs": [
    {
     "data": {
      "text/plain": [
       "<AxesSubplot:>"
      ]
     },
     "execution_count": 374,
     "metadata": {},
     "output_type": "execute_result"
    },
    {
     "data": {
      "image/png": "[encoded data removed]",
      "text/plain": [
       "<Figure size 432x288 with 2 Axes>"
      ]
     },
     "metadata": {
      "needs_background": "light"
     },
     "output_type": "display_data"
    }
   ],
   "source": [
    "sns.heatmap(confusion_matrix(testy,predicted_result),annot=True)"
   ]
  },
  {
   "cell_type": "code",
   "execution_count": 375,
   "id": "d40f89a8",
   "metadata": {},
   "outputs": [],
   "source": [
    "#the model is pretty accurate at classifying the failed students in the test dataset, True Failed=44 compared to False Passed=8\n",
    "#however, it is lacking at predicting the passed students, True Passed=93 compared to Falsed Failed=50\n",
    "from sklearn.metrics import roc_curve"
   ]
  },
  {
   "cell_type": "code",
   "execution_count": 376,
   "id": "2e8a778a",
   "metadata": {},
   "outputs": [],
   "source": [
    "fpr, tpr, thresholds = roc_curve(testy, predicted_result)"
   ]
  },
  {
   "cell_type": "code",
   "execution_count": 377,
   "id": "608552e8",
   "metadata": {
    "scrolled": true
   },
   "outputs": [
    {
     "data": {
      "text/plain": [
       "Text(0, 0.5, 'TPR')"
      ]
     },
     "execution_count": 377,
     "metadata": {},
     "output_type": "execute_result"
    },
    {
     "data": {
      "image/png": "[encoded data removed]",
      "text/plain": [
       "<Figure size 432x288 with 1 Axes>"
      ]
     },
     "metadata": {
      "needs_background": "light"
     },
     "output_type": "display_data"
    }
   ],
   "source": [
    "plt.plot(fpr, tpr, label=(\"Roc Curve\"))\n",
    "plt.xlabel(\"FPR\")\n",
    "plt.ylabel(\"TPR\")\n",
    "#the goal is to have really high TPR but low FPR, because if they are equally high the model is doing right and wrong at the same time"
   ]
  },
  {
   "cell_type": "code",
   "execution_count": 378,
   "id": "11f17f1f",
   "metadata": {},
   "outputs": [
    {
     "data": {
      "text/plain": [
       "Text(0, 0.5, 'recall_NB')"
      ]
     },
     "execution_count": 378,
     "metadata": {},
     "output_type": "execute_result"
    },
    {
     "data": {
      "image/png": "[encoded data removed]",
      "text/plain": [
       "<Figure size 432x288 with 1 Axes>"
      ]
     },
     "metadata": {
      "needs_background": "light"
     },
     "output_type": "display_data"
    }
   ],
   "source": [
    "from sklearn.metrics import precision_recall_curve\n",
    "\n",
    "precision,recall,thresholds = precision_recall_curve(testy, predicted_result)\n",
    "plt.plot(precision,recall)\n",
    "plt.xlabel(\"precision_NB\")\n",
    "plt.ylabel(\"recall_NB\")"
   ]
  },
  {
   "cell_type": "code",
   "execution_count": 379,
   "id": "6f428c8b",
   "metadata": {},
   "outputs": [],
   "source": [
    "#classifying using KNN\n",
    "from sklearn.neighbors import KNeighborsClassifier"
   ]
  },
  {
   "cell_type": "code",
   "execution_count": 380,
   "id": "2b2569d2",
   "metadata": {},
   "outputs": [],
   "source": [
    "trainx = train[features]\n",
    "trainy = train[target]\n",
    "knn = KNeighborsClassifier(n_neighbors =5)"
   ]
  },
  {
   "cell_type": "code",
   "execution_count": 381,
   "id": "f7abdd3e",
   "metadata": {},
   "outputs": [
    {
     "data": {
      "text/html": [
       "<style>#sk-container-id-7 {color: black;background-color: white;}#sk-container-id-7 pre{padding: 0;}#sk-container-id-7 div.sk-toggleable {background-color: white;}#sk-container-id-7 label.sk-toggleable__label {cursor: pointer;display: block;width: 100%;margin-bottom: 0;padding: 0.3em;box-sizing: border-box;text-align: center;}#sk-container-id-7 label.sk-toggleable__label-arrow:before {content: \"▸\";float: left;margin-right: 0.25em;color: #696969;}#sk-container-id-7 label.sk-toggleable__label-arrow:hover:before {color: black;}#sk-container-id-7 div.sk-estimator:hover label.sk-toggleable__label-arrow:before {color: black;}#sk-container-id-7 div.sk-toggleable__content {max-height: 0;max-width: 0;overflow: hidden;text-align: left;background-color: #f0f8ff;}#sk-container-id-7 div.sk-toggleable__content pre {margin: 0.2em;color: black;border-radius: 0.25em;background-color: #f0f8ff;}#sk-container-id-7 input.sk-toggleable__control:checked~div.sk-toggleable__content {max-height: 200px;max-width: 100%;overflow: auto;}#sk-container-id-7 input.sk-toggleable__control:checked~label.sk-toggleable__label-arrow:before {content: \"▾\";}#sk-container-id-7 div.sk-estimator input.sk-toggleable__control:checked~label.sk-toggleable__label {background-color: #d4ebff;}#sk-container-id-7 div.sk-label input.sk-toggleable__control:checked~label.sk-toggleable__label {background-color: #d4ebff;}#sk-container-id-7 input.sk-hidden--visually {border: 0;clip: rect(1px 1px 1px 1px);clip: rect(1px, 1px, 1px, 1px);height: 1px;margin: -1px;overflow: hidden;padding: 0;position: absolute;width: 1px;}#sk-container-id-7 div.sk-estimator {font-family: monospace;background-color: #f0f8ff;border: 1px dotted black;border-radius: 0.25em;box-sizing: border-box;margin-bottom: 0.5em;}#sk-container-id-7 div.sk-estimator:hover {background-color: #d4ebff;}#sk-container-id-7 div.sk-parallel-item::after {content: \"\";width: 100%;border-bottom: 1px solid gray;flex-grow: 1;}#sk-container-id-7 div.sk-label:hover label.sk-toggleable__label {background-color: #d4ebff;}#sk-container-id-7 div.sk-serial::before {content: \"\";position: absolute;border-left: 1px solid gray;box-sizing: border-box;top: 0;bottom: 0;left: 50%;z-index: 0;}#sk-container-id-7 div.sk-serial {display: flex;flex-direction: column;align-items: center;background-color: white;padding-right: 0.2em;padding-left: 0.2em;position: relative;}#sk-container-id-7 div.sk-item {position: relative;z-index: 1;}#sk-container-id-7 div.sk-parallel {display: flex;align-items: stretch;justify-content: center;background-color: white;position: relative;}#sk-container-id-7 div.sk-item::before, #sk-container-id-7 div.sk-parallel-item::before {content: \"\";position: absolute;border-left: 1px solid gray;box-sizing: border-box;top: 0;bottom: 0;left: 50%;z-index: -1;}#sk-container-id-7 div.sk-parallel-item {display: flex;flex-direction: column;z-index: 1;position: relative;background-color: white;}#sk-container-id-7 div.sk-parallel-item:first-child::after {align-self: flex-end;width: 50%;}#sk-container-id-7 div.sk-parallel-item:last-child::after {align-self: flex-start;width: 50%;}#sk-container-id-7 div.sk-parallel-item:only-child::after {width: 0;}#sk-container-id-7 div.sk-dashed-wrapped {border: 1px dashed gray;margin: 0 0.4em 0.5em 0.4em;box-sizing: border-box;padding-bottom: 0.4em;background-color: white;}#sk-container-id-7 div.sk-label label {font-family: monospace;font-weight: bold;display: inline-block;line-height: 1.2em;}#sk-container-id-7 div.sk-label-container {text-align: center;}#sk-container-id-7 div.sk-container {/* jupyter's `normalize.less` sets `[hidden] { display: none; }` but bootstrap.min.css set `[hidden] { display: none !important; }` so we also need the `!important` here to be able to override the default hidden behavior on the sphinx rendered scikit-learn.org. See: https://github.com/scikit-learn/scikit-learn/issues/21755 */display: inline-block !important;position: relative;}#sk-container-id-7 div.sk-text-repr-fallback {display: none;}</style><div id=\"sk-container-id-7\" class=\"sk-top-container\"><div class=\"sk-text-repr-fallback\"><pre>KNeighborsClassifier()</pre><b>In a Jupyter environment, please rerun this cell to show the HTML representation or trust the notebook. <br />On GitHub, the HTML representation is unable to render, please try loading this page with nbviewer.org.</b></div><div class=\"sk-container\" hidden><div class=\"sk-item\"><div class=\"sk-estimator sk-toggleable\"><input class=\"sk-toggleable__control sk-hidden--visually\" id=\"sk-estimator-id-7\" type=\"checkbox\" checked><label for=\"sk-estimator-id-7\" class=\"sk-toggleable__label sk-toggleable__label-arrow\">KNeighborsClassifier</label><div class=\"sk-toggleable__content\"><pre>KNeighborsClassifier()</pre></div></div></div></div></div>"
      ],
      "text/plain": [
       "KNeighborsClassifier()"
      ]
     },
     "execution_count": 381,
     "metadata": {},
     "output_type": "execute_result"
    }
   ],
   "source": [
    "knn.fit(trainx, trainy)"
   ]
  },
  {
   "cell_type": "code",
   "execution_count": 382,
   "id": "2d1c6f66",
   "metadata": {},
   "outputs": [],
   "source": [
    "pred_knn = knn.predict(testx)"
   ]
  },
  {
   "cell_type": "code",
   "execution_count": 384,
   "id": "e0aedcef",
   "metadata": {},
   "outputs": [
    {
     "data": {
      "text/plain": [
       "0.5743589743589743"
      ]
     },
     "execution_count": 384,
     "metadata": {},
     "output_type": "execute_result"
    }
   ],
   "source": [
    "accuracy_score(testy, pred_knn)"
   ]
  },
  {
   "cell_type": "code",
   "execution_count": 385,
   "id": "9bace7c5",
   "metadata": {},
   "outputs": [
    {
     "data": {
      "text/plain": [
       "<AxesSubplot:>"
      ]
     },
     "execution_count": 385,
     "metadata": {},
     "output_type": "execute_result"
    },
    {
     "data": {
      "image/png": "[encoded data removed]",
      "text/plain": [
       "<Figure size 432x288 with 2 Axes>"
      ]
     },
     "metadata": {
      "needs_background": "light"
     },
     "output_type": "display_data"
    }
   ],
   "source": [
    "sns.heatmap(confusion_matrix(testy,pred_knn),annot=True)"
   ]
  },
  {
   "cell_type": "code",
   "execution_count": 386,
   "id": "d6c00f27",
   "metadata": {},
   "outputs": [
    {
     "data": {
      "text/plain": [
       "Text(0, 0.5, 'recall_KNN')"
      ]
     },
     "execution_count": 386,
     "metadata": {},
     "output_type": "execute_result"
    },
    {
     "data": {
      "image/png": "[encoded data removed]",
      "text/plain": [
       "<Figure size 432x288 with 1 Axes>"
      ]
     },
     "metadata": {
      "needs_background": "light"
     },
     "output_type": "display_data"
    }
   ],
   "source": [
    "precision,recall,thresholds = precision_recall_curve(testy, pred_knn)\n",
    "plt.plot(precision,recall)\n",
    "plt.xlabel(\"precision_KNN\")\n",
    "plt.ylabel(\"recall_KNN\")"
   ]
  },
  {
   "cell_type": "code",
   "execution_count": null,
   "id": "b238016d",
   "metadata": {},
   "outputs": [],
   "source": []
  }
 ],
 "metadata": {
  "kernelspec": {
   "display_name": "Python 3.9.7 ('base')",
   "language": "python",
   "name": "python3"
  },
  "language_info": {
   "codemirror_mode": {
    "name": "ipython",
    "version": 3
   },
   "file_extension": ".py",
   "mimetype": "text/x-python",
   "name": "python",
   "nbconvert_exporter": "python",
   "pygments_lexer": "ipython3",
   "version": "3.9.7 (default, Sep 16 2021, 16:59:28) [MSC v.1916 64 bit (AMD64)]"
  },
  "vscode": {
   "interpreter": {
    "hash": "2906a23b2a78599c962756872acacb872628811234e5a619694aec04ffed495b"
   }
  }
 },
 "nbformat": 4,
 "nbformat_minor": 5
}
